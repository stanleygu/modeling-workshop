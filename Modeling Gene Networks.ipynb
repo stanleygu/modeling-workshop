{
 "metadata": {
  "name": "",
  "signature": "sha256:95c220e33a6f3643cfce8988b47acc94e0f21899f9f4c374db8475a38dc48427"
 },
 "nbformat": 3,
 "nbformat_minor": 0,
 "worksheets": [
  {
   "cells": [
    {
     "cell_type": "heading",
     "level": 1,
     "metadata": {},
     "source": [
      "Modeling Gene Networks"
     ]
    },
    {
     "cell_type": "markdown",
     "metadata": {},
     "source": [
      "1. Kinetics required for the diferent gate types. \n",
      "\n",
      "2. Shaping signals with exponents and multiplication constants."
     ]
    },
    {
     "cell_type": "heading",
     "level": 2,
     "metadata": {},
     "source": [
      "Modeling AND Operations"
     ]
    },
    {
     "cell_type": "markdown",
     "metadata": {},
     "source": [
      "1. AND diagram and truth table\n",
      "\n",
      "2. Relating the inputs and outputs to genes\n",
      "\n",
      "  a. Inputs are TFs  \n",
      "  b. Output is a protein (which may be a TF) expressed by a gene\n",
      "  \n",
      "3. Using DNA strands\n",
      "  \n",
      "4. Encoding AND in kinetics.\n",
      "\n",
      "  a. All inputs in the denominator and denominator."
     ]
    },
    {
     "cell_type": "heading",
     "level": 2,
     "metadata": {},
     "source": [
      "Shaping the Signal"
     ]
    },
    {
     "cell_type": "markdown",
     "metadata": {},
     "source": [
      "1. Getting a sharper peak\n",
      "2. Scaling the height of the peak\n",
      "3. Other parameters\n",
      "4. Exploration with sliders"
     ]
    },
    {
     "cell_type": "heading",
     "level": 2,
     "metadata": {},
     "source": [
      "Modeling OR Operations"
     ]
    },
    {
     "cell_type": "markdown",
     "metadata": {},
     "source": [
      "1. Sum of fractions of input over input: $A \\over {1 + A}$\n",
      "\n",
      "2. Scaling and shaping: $a_1 {A^n} \\over {1 + a_2 ^A^n}$"
     ]
    },
    {
     "cell_type": "heading",
     "level": 2,
     "metadata": {},
     "source": [
      "Modeling NAND Operations"
     ]
    },
    {
     "cell_type": "heading",
     "level": 2,
     "metadata": {},
     "source": [
      "Modeling NOR Operations"
     ]
    }
   ],
   "metadata": {}
  }
 ]
}