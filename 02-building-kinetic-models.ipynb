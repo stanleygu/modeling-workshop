{
 "metadata": {
  "celltoolbar": "Slideshow",
  "signature": "sha256:16c442faba40bf794433ae97ff9db6ee2c8a8618546e7edd10abe401dc585015"
 },
 "nbformat": 3,
 "nbformat_minor": 0,
 "worksheets": [
  {
   "cells": [
    {
     "cell_type": "code",
     "collapsed": false,
     "input": [
      "!pip install actdiag blockdiag nwdiag seqdiag notebooktools\n",
      "%install_ext https://bitbucket.org/stanleygu/ipython-diags/raw/default/diagmagic.py\n",
      "%reload_ext diagmagic\n",
      "%setdiagsvg"
     ],
     "language": "python",
     "metadata": {
      "slideshow": {
       "slide_type": "skip"
      }
     },
     "outputs": [
      {
       "output_type": "stream",
       "stream": "stdout",
       "text": [
        "Requirement already satisfied (use --upgrade to upgrade): actdiag in /home/user/.virtualenvs/localpy/lib/python2.7/site-packages\r\n",
        "Requirement already satisfied (use --upgrade to upgrade): blockdiag in /home/user/.virtualenvs/localpy/lib/python2.7/site-packages\r\n",
        "Requirement already satisfied (use --upgrade to upgrade): nwdiag in /home/user/.virtualenvs/localpy/lib/python2.7/site-packages\r\n",
        "Requirement already satisfied (use --upgrade to upgrade): seqdiag in /home/user/.virtualenvs/localpy/lib/python2.7/site-packages\r\n",
        "Downloading/unpacking notebooktools\r\n"
       ]
      },
      {
       "output_type": "stream",
       "stream": "stdout",
       "text": [
        "  Downloading notebooktools-0.0.5.tar.gz\r\n"
       ]
      },
      {
       "output_type": "stream",
       "stream": "stdout",
       "text": [
        "  Running setup.py (path:/home/user/.virtualenvs/localpy/build/notebooktools/setup.py) egg_info for package notebooktools\r\n"
       ]
      },
      {
       "output_type": "stream",
       "stream": "stdout",
       "text": [
        "    \r\n"
       ]
      },
      {
       "output_type": "stream",
       "stream": "stdout",
       "text": [
        "Installing collected packages: notebooktools\r\n",
        "  Running setup.py install for notebooktools\r\n"
       ]
      },
      {
       "output_type": "stream",
       "stream": "stdout",
       "text": [
        "    \r\n"
       ]
      },
      {
       "output_type": "stream",
       "stream": "stdout",
       "text": [
        "Successfully installed notebooktools\r\n",
        "Cleaning up...\r\n"
       ]
      },
      {
       "output_type": "stream",
       "stream": "stdout",
       "text": [
        "Installed diagmagic.py. To use it, type:\n",
        "  %load_ext diagmagic\n"
       ]
      }
     ],
     "prompt_number": 1
    },
    {
     "cell_type": "heading",
     "level": 1,
     "metadata": {
      "slideshow": {
       "slide_type": "slide"
      }
     },
     "source": [
      "Building Kinetic Models in Python"
     ]
    },
    {
     "cell_type": "markdown",
     "metadata": {
      "slideshow": {
       "slide_type": "fragment"
      }
     },
     "source": [
      "What is a system?\n",
      "\n",
      "> a set of interacting or interdependent components forming an integrated whole"
     ]
    },
    {
     "cell_type": "markdown",
     "metadata": {
      "slideshow": {
       "slide_type": "fragment"
      }
     },
     "source": [
      "What is a model?\n",
      "\n",
      "> a description of a system"
     ]
    },
    {
     "cell_type": "markdown",
     "metadata": {
      "slideshow": {
       "slide_type": "fragment"
      }
     },
     "source": [
      "What is a simulation?\n",
      "\n",
      "> an experiment performed on a model"
     ]
    },
    {
     "cell_type": "heading",
     "level": 1,
     "metadata": {
      "slideshow": {
       "slide_type": "subslide"
      }
     },
     "source": [
      "What are *Kinetic* Models?"
     ]
    },
    {
     "cell_type": "markdown",
     "metadata": {
      "slideshow": {
       "slide_type": "fragment"
      }
     },
     "source": [
      "Represented by differential equations:\n",
      "\n",
      "$$\\frac{dS}{dt} = Nv(S, p)$$\n",
      "\n",
      "Where $S$ is the vector of species, $N$ is the stoichiometry matrix, $v$ is the rate vector, and $p$ a vector of parameters that can influence the system.\n",
      "   "
     ]
    },
    {
     "cell_type": "heading",
     "level": 1,
     "metadata": {
      "slideshow": {
       "slide_type": "slide"
      }
     },
     "source": [
      "Using Tellurium "
     ]
    },
    {
     "cell_type": "code",
     "collapsed": false,
     "input": [
      "%%blockdiag\n",
      "{\n",
      "    node_width = 100;  // default value is 128\n",
      "    node_height = 30;  // default value is 40\n",
      "    // Set span metrix\n",
      "    span_width = 130;  // default value is 64\n",
      "    span_height = 20;  // default value is 40\n",
      "\n",
      "    Tellurium -> Antimony [label='Model Definition', fontsize = 8];\n",
      "    Tellurium -> RoadRunner [label='Simulation', fontsize = 8];\n",
      "    Tellurium -> Others [label='et al.', fontsize = 8];\n",
      "\n",
      "    Others [shape = 'dots'];\n",
      "\n",
      "    group {\n",
      "        label = 'Dependencies';\n",
      "        RoadRunner;\n",
      "        Antimony;\n",
      "        Others;\n",
      "    }\n",
      "}"
     ],
     "language": "python",
     "metadata": {
      "slideshow": {
       "slide_type": "skip"
      }
     },
     "outputs": [
      {
       "metadata": {},
       "output_type": "display_data",
       "svg": [
        "<?xml version='1.0' encoding='UTF-8'?>\n",
        "<!DOCTYPE svg PUBLIC \"-//W3C//DTD SVG 1.0//EN\" \"http://www.w3.org/TR/2001/REC-SVG-20010904/DTD/svg10.dtd\">\n",
        "<svg viewBox=\"0 0 590 170\" xmlns=\"http://www.w3.org/2000/svg\" xmlns:inkspace=\"http://www.inkscape.org/namespaces/inkscape\" xmlns:xlink=\"http://www.w3.org/1999/xlink\">\n",
        "  <defs id=\"defs_block\">\n",
        "    <filter height=\"1.504\" id=\"filter_blur\" inkspace:collect=\"always\" width=\"1.1575\" x=\"-0.07875\" y=\"-0.252\">\n",
        "      <feGaussianBlur id=\"feGaussianBlur3780\" inkspace:collect=\"always\" stdDeviation=\"4.2\" />\n",
        "    </filter>\n",
        "  </defs>\n",
        "  <title>blockdiag</title>\n",
        "  <desc>{\n",
        "    node_width = 100;  // default value is 128\n",
        "    node_height = 30;  // default value is 40\n",
        "    // Set span metrix\n",
        "    span_width = 130;  // default value is 64\n",
        "    span_height = 20;  // default value is 40\n",
        "\n",
        "    Tellurium -&gt; Antimony [label='Model Definition', fontsize = 8];\n",
        "    Tellurium -&gt; RoadRunner [label='Simulation', fontsize = 8];\n",
        "    Tellurium -&gt; Others [label='et al.', fontsize = 8];\n",
        "\n",
        "    Others [shape = 'dots'];\n",
        "\n",
        "    group {\n",
        "        label = 'Dependencies';\n",
        "        RoadRunner;\n",
        "        Antimony;\n",
        "        Others;\n",
        "    }\n",
        "}\n",
        "</desc>\n",
        "  <rect fill=\"rgb(243,152,0)\" height=\"140\" style=\"filter:url(#filter_blur)\" width=\"132\" x=\"344\" y=\"15\" />\n",
        "  <rect fill=\"rgb(0,0,0)\" height=\"30\" stroke=\"rgb(0,0,0)\" style=\"filter:url(#filter_blur);opacity:0.7;fill-opacity:1\" width=\"100\" x=\"133\" y=\"26\" />\n",
        "  <rect fill=\"rgb(0,0,0)\" height=\"30\" stroke=\"rgb(0,0,0)\" style=\"filter:url(#filter_blur);opacity:0.7;fill-opacity:1\" width=\"100\" x=\"363\" y=\"26\" />\n",
        "  <rect fill=\"rgb(0,0,0)\" height=\"30\" stroke=\"rgb(0,0,0)\" style=\"filter:url(#filter_blur);opacity:0.7;fill-opacity:1\" width=\"100\" x=\"363\" y=\"76\" />\n",
        "  <rect fill=\"rgb(255,255,255)\" height=\"30\" stroke=\"rgb(0,0,0)\" width=\"100\" x=\"130\" y=\"20\" />\n",
        "  <text fill=\"rgb(0,0,0)\" font-family=\"sansserif\" font-size=\"11\" font-style=\"normal\" font-weight=\"normal\" text-anchor=\"middle\" textLength=\"55\" x=\"180\" y=\"41\">Tellurium</text>\n",
        "  <rect fill=\"rgb(255,255,255)\" height=\"30\" stroke=\"rgb(0,0,0)\" width=\"100\" x=\"360\" y=\"20\" />\n",
        "  <text fill=\"rgb(0,0,0)\" font-family=\"sansserif\" font-size=\"11\" font-style=\"normal\" font-weight=\"normal\" text-anchor=\"middle\" textLength=\"61\" x=\"410\" y=\"41\">RoadRunner</text>\n",
        "  <rect fill=\"rgb(255,255,255)\" height=\"30\" stroke=\"rgb(0,0,0)\" width=\"100\" x=\"360\" y=\"70\" />\n",
        "  <text fill=\"rgb(0,0,0)\" font-family=\"sansserif\" font-size=\"11\" font-style=\"normal\" font-weight=\"normal\" text-anchor=\"middle\" textLength=\"49\" x=\"410\" y=\"91\">Antimony</text>\n",
        "  <ellipse cx=\"410\" cy=\"135\" fill=\"rgb(0,0,0)\" rx=\"4\" ry=\"4\" stroke=\"rgb(0,0,0)\" />\n",
        "  <ellipse cx=\"410\" cy=\"120\" fill=\"rgb(0,0,0)\" rx=\"4\" ry=\"4\" stroke=\"rgb(0,0,0)\" />\n",
        "  <ellipse cx=\"410\" cy=\"150\" fill=\"rgb(0,0,0)\" rx=\"4\" ry=\"4\" stroke=\"rgb(0,0,0)\" />\n",
        "  <path d=\"M 230 35 L 295 35\" fill=\"none\" stroke=\"rgb(0,0,0)\" />\n",
        "  <path d=\"M 295 35 L 295 85\" fill=\"none\" stroke=\"rgb(0,0,0)\" />\n",
        "  <path d=\"M 295 85 L 352 85\" fill=\"none\" stroke=\"rgb(0,0,0)\" />\n",
        "  <polygon fill=\"rgb(0,0,0)\" points=\"359,85 352,81 352,89 359,85\" stroke=\"rgb(0,0,0)\" />\n",
        "  <path d=\"M 230 35 L 352 35\" fill=\"none\" stroke=\"rgb(0,0,0)\" />\n",
        "  <polygon fill=\"rgb(0,0,0)\" points=\"359,35 352,31 352,39 359,35\" stroke=\"rgb(0,0,0)\" />\n",
        "  <path d=\"M 230 35 L 295 35\" fill=\"none\" stroke=\"rgb(0,0,0)\" />\n",
        "  <path d=\"M 295 35 L 295 135\" fill=\"none\" stroke=\"rgb(0,0,0)\" />\n",
        "  <path d=\"M 295 135 L 352 135\" fill=\"none\" stroke=\"rgb(0,0,0)\" />\n",
        "  <polygon fill=\"rgb(0,0,0)\" points=\"359,135 352,131 352,139 359,135\" stroke=\"rgb(0,0,0)\" />\n",
        "  <rect fill=\"white\" height=\"12\" stroke=\"rgb(0,0,0)\" width=\"87\" x=\"252\" y=\"70\" />\n",
        "  <text fill=\"rgb(0,0,0)\" font-family=\"sansserif\" font-size=\"8\" font-style=\"normal\" font-weight=\"normal\" text-anchor=\"middle\" textLength=\"71\" x=\"295\" y=\"80\">Model Definition</text>\n",
        "  <rect fill=\"white\" height=\"12\" stroke=\"rgb(0,0,0)\" width=\"60\" x=\"265\" y=\"20\" />\n",
        "  <text fill=\"rgb(0,0,0)\" font-family=\"sansserif\" font-size=\"8\" font-style=\"normal\" font-weight=\"normal\" text-anchor=\"middle\" textLength=\"44\" x=\"295\" y=\"30\">Simulation</text>\n",
        "  <rect fill=\"white\" height=\"12\" stroke=\"rgb(0,0,0)\" width=\"43\" x=\"274\" y=\"120\" />\n",
        "  <text fill=\"rgb(0,0,0)\" font-family=\"sansserif\" font-size=\"8\" font-style=\"normal\" font-weight=\"normal\" text-anchor=\"middle\" textLength=\"27\" x=\"295\" y=\"130\">et al.</text>\n",
        "  <text fill=\"rgb(0,0,0)\" font-family=\"sansserif\" font-size=\"6\" font-style=\"normal\" font-weight=\"normal\" text-anchor=\"middle\" textLength=\"40\" x=\"410\" y=\"18\">Dependencies</text>\n",
        "</svg>\n"
       ]
      }
     ],
     "prompt_number": 2
    },
    {
     "cell_type": "markdown",
     "metadata": {
      "slideshow": {
       "slide_type": "-"
      }
     },
     "source": [
      "* [Tellurium](http://tellurium.analogmachine.org/) contains a combination of libraries to define, simulate, and analyze models.\n",
      "\n",
      "* Models are defined using the [Antimony](http://antimony.sourceforge.net/) syntax as multi-line Python strings\n",
      "\n",
      "* Models are loaded for simulation and analysis using [RoadRunner](http://libroadrunner.org/)."
     ]
    },
    {
     "cell_type": "markdown",
     "metadata": {
      "slideshow": {
       "slide_type": "subslide"
      }
     },
     "source": [
      "Importing the `tellurium` package."
     ]
    },
    {
     "cell_type": "code",
     "collapsed": false,
     "input": [
      "import tellurium as te # shorten tellurium to te to save typing\n",
      "print te.getTelluriumVersion()"
     ],
     "language": "python",
     "metadata": {},
     "outputs": [
      {
       "output_type": "stream",
       "stream": "stdout",
       "text": [
        "1.1.2\n"
       ]
      }
     ],
     "prompt_number": 3
    },
    {
     "cell_type": "heading",
     "level": 1,
     "metadata": {
      "slideshow": {
       "slide_type": "slide"
      }
     },
     "source": [
      "Creating our first model"
     ]
    },
    {
     "cell_type": "code",
     "collapsed": false,
     "input": [
      "myModel = '''\n",
      "#Describes a system where:\n",
      "# a reaction converts species S1 to species S2 at rate k1*S1\n",
      "S1 -> S2; k1*S1\n",
      "'''"
     ],
     "language": "python",
     "metadata": {
      "slideshow": {
       "slide_type": "subslide"
      }
     },
     "outputs": [],
     "prompt_number": 1
    },
    {
     "cell_type": "markdown",
     "metadata": {
      "slideshow": {
       "slide_type": "fragment"
      }
     },
     "source": [
      "* Model is a multi-line string in Antimony (a more concise model definition format)\n",
      "* Single reaction defined using `Reactant -> Product` syntax\n",
      "* Reaction proceeds at rate `k1*S1`"
     ]
    },
    {
     "cell_type": "markdown",
     "metadata": {
      "slideshow": {
       "slide_type": "subslide"
      }
     },
     "source": [
      "The equivalent ODEs for `S1 -> S2; k1*S1`:\n",
      "\n",
      "$$\\frac{dS_1}{dt} = -k_1S_1$$\n",
      "\n",
      "$$\\frac{dS_2}{dt} = k_1S_1$$"
     ]
    },
    {
     "cell_type": "markdown",
     "metadata": {
      "slideshow": {
       "slide_type": "fragment"
      }
     },
     "source": [
      "BUT, cannot simulate because:\n",
      "\n",
      "No initial values of `S1` and `S2`\n",
      "\n",
      "`k1` is not defined"
     ]
    },
    {
     "cell_type": "markdown",
     "metadata": {
      "slideshow": {
       "slide_type": "notes"
      }
     },
     "source": [
      "The first thing you might notice here is that the model is being defined as a multi-line string and the syntax is different than Python. What we are doing is leveraging Antimony, a model definition language, to construct our model in a concise and . Tellurium has functions to import the Antimony string and create the model.\n",
      "\n",
      "Now let's look at model the model we defined in Antimony. Here our model is named `example1`, and we have a single reaction defined using the `Reactant -> Product` syntax. The rate at which this reaction occurs is defined after the semicolon (`;`). Our reaciotn says that we have a species `S1` which is converted into `S2` at the rate proportional to the amount of reactant available, defined as `k1*S1`.\n",
      "\n",
      "The equivalent system of ordinary differential equations (ODE) represented by this scheme is:\n",
      "\n",
      "$$\\frac{dS_1}{dt} = -k_1S_1$$\n",
      "\n",
      "$$\\frac{dS_2}{dt} = k_1S_1$$\n",
      "\n",
      "However, we currently cannot simulate this model because there are not initial values for the species `S1` and `S2`, also the parameter `k1` is not defined. Let's add these."
     ]
    },
    {
     "cell_type": "code",
     "collapsed": false,
     "input": [
      "myModel = '''\n",
      "# Conversion of S1 to S2 at rate k1*S1\n",
      "S1 -> S2; k1*S1\n",
      "\n",
      "# Initial values\n",
      "S1 = 10\n",
      "S2 = 0\n",
      "# Parameter definition\n",
      "k1 = 0.1\n",
      "'''"
     ],
     "language": "python",
     "metadata": {
      "slideshow": {
       "slide_type": "subslide"
      }
     },
     "outputs": [],
     "prompt_number": 2
    },
    {
     "cell_type": "markdown",
     "metadata": {},
     "source": [
      "Note: Units are important, but left out here for simplicity, so we must be consistent, e.g. all concentrations are the same units."
     ]
    },
    {
     "cell_type": "heading",
     "level": 1,
     "metadata": {
      "slideshow": {
       "slide_type": "slide"
      }
     },
     "source": [
      "Running our First Simulation"
     ]
    },
    {
     "cell_type": "markdown",
     "metadata": {},
     "source": [
      "With functions from Tellurium to help"
     ]
    },
    {
     "cell_type": "code",
     "collapsed": false,
     "input": [
      "# Load the model\n",
      "r = te.loadAntimonyModel(myModel)\n",
      "\n",
      "# Carry out a time course simulation\n",
      "# Arguments are: \n",
      "# time start (0), time end (40), number of points (10)\n",
      "result = r.simulate (0, 40, 10)\n",
      "\n",
      "## Print column labels here\n",
      "print result"
     ],
     "language": "python",
     "metadata": {
      "slideshow": {
       "slide_type": "subslide"
      }
     },
     "outputs": []
    },
    {
     "cell_type": "markdown",
     "metadata": {
      "slideshow": {
       "slide_type": "subslide"
      }
     },
     "source": [
      "The results are in multi-dimensional array. \n",
      "\n",
      "Columns: `time`, `S1`, and `S2`.\n",
      "\n",
      "    [[  0.          10.           0.        ]\n",
      "     [  4.           6.70319733   3.29680267]\n",
      "     [  8.           4.49328603   5.50671397]\n",
      "     [ 12.           3.01197194   6.98802806]\n",
      "     [ 16.           2.01899061   7.98100939]\n",
      "     [ 20.           1.35337474   8.64662526]\n",
      "     [ 24.           0.90719877   9.09280123]\n",
      "     [ 28.           0.60811502   9.39188498]\n",
      "     [ 32.           0.40763322   9.59236678]\n",
      "     [ 36.           0.27324597   9.72675403]\n",
      "     [ 40.           0.18316275   9.81683725]]"
     ]
    },
    {
     "cell_type": "heading",
     "level": 1,
     "metadata": {
      "slideshow": {
       "slide_type": "subslide"
      }
     },
     "source": [
      "Plotting Simulation Results"
     ]
    },
    {
     "cell_type": "markdown",
     "metadata": {
      "slideshow": {
       "slide_type": "-"
      }
     },
     "source": [
      "While we could analyze the raw data in many different ways, it is helpful to plot the results to quickly visualize the behavior of our system."
     ]
    },
    {
     "cell_type": "code",
     "collapsed": false,
     "input": [
      "%matplotlib inline # show plots inline\n",
      "%config InlineBackend.figure_format='retina' # higher resolution graphics\n",
      "\n",
      "te.plotWithLegend(r, result)"
     ],
     "language": "python",
     "metadata": {
      "slideshow": {
       "slide_type": "subslide"
      }
     },
     "outputs": [
      {
       "metadata": {
        "png": {
         "height": 252,
         "width": 370
        }
       },
       "output_type": "display_data",
       "png": "[encoded data removed]",
       "text": [
        "<matplotlib.figure.Figure at 0x3d2f290>"
       ]
      },
      {
       "metadata": {},
       "output_type": "pyout",
       "prompt_number": 12,
       "text": [
        "<module 'matplotlib.pyplot' from '/usr/lib/pymodules/python2.7/matplotlib/pyplot.pyc'>"
       ]
      }
     ],
     "prompt_number": 12
    },
    {
     "cell_type": "markdown",
     "metadata": {
      "slideshow": {
       "slide_type": "skip"
      }
     },
     "source": [
      "Description of some of the magic commands:\n",
      "\n",
      "* `%matplotlib inline` - show plots inline\n",
      "\n",
      "* `%config InlineBackend.figure_format='retina'` - turns on higher resolution graphics.\n",
      "\n",
      "Now let's see a slightly more complicated example."
     ]
    },
    {
     "cell_type": "code",
     "collapsed": false,
     "input": [
      "model = '''\n",
      "S1 -> S2; k1*S1 - k2*S2 # Reversible term added here\n",
      "\n",
      "# Initialize values\n",
      "S1 = 5; S2 = 0;\n",
      "k1 = 0.1;  k2 = 0.05;\n",
      "'''\n",
      "\n",
      "r = te.loadAntimonyModel(model)\n",
      "result = r.simulate (0, 40, 100)\n",
      "te.plotWithLegend(r, result)"
     ],
     "language": "python",
     "metadata": {
      "slideshow": {
       "slide_type": "slide"
      }
     },
     "outputs": [
      {
       "metadata": {
        "png": {
         "height": 252,
         "width": 364
        }
       },
       "output_type": "display_data",
       "png": "[encoded data removed]",
       "text": [
        "<matplotlib.figure.Figure at 0x3d6c350>"
       ]
      },
      {
       "metadata": {},
       "output_type": "pyout",
       "prompt_number": 16,
       "text": [
        "<module 'matplotlib.pyplot' from '/usr/lib/pymodules/python2.7/matplotlib/pyplot.pyc'>"
       ]
      }
     ],
     "prompt_number": 16
    },
    {
     "cell_type": "markdown",
     "metadata": {
      "slideshow": {
       "slide_type": "skip"
      }
     },
     "source": [
      "`S1 -> S2; k1*S1 - k2*S2`\n",
      "\n",
      "Reaction is now **reversible**. As S2 is produced, it also undergoes the reverse reaction to form S1, at the rate of $k_2S_2$.\n",
      "\n",
      "Equivalent ODEs:\n",
      "\n",
      "$$\\frac{dS_1}{dt} = -k_1S_1 + k_2S_2$$\n",
      "\n",
      "$$\\frac{dS_2}{dt} = k_1S_1 - k_2S_2$$"
     ]
    },
    {
     "cell_type": "markdown",
     "metadata": {
      "slideshow": {
       "slide_type": "skip"
      }
     },
     "source": [
      "Here the difference is that we made our reaction **reversible**. As S2 is produced, it also undergoes the reverse reaction to form S1, at the rate of $k_2S_2$.\n",
      "\n",
      "The equivalent system of ordinary differential equations (ODE) is:\n",
      "\n",
      "$$\\frac{dS_1}{dt} = -k_1S_1 + k_2S_2$$\n",
      "\n",
      "$$\\frac{dS_2}{dt} = k_1S_1 - k_2S_2$$\n",
      "\n",
      "Also note that the reverse reaction is represented above implicitly, but we could also be more verbose and explicitly define the reverse reaction. However, in either case, the underlying mathematics is the same."
     ]
    },
    {
     "cell_type": "code",
     "collapsed": false,
     "input": [
      "model = '''\n",
      "S1 -> S2; k1*S1\n",
      "S2 -> S1; k2*S2 # Reverse Reaction\n",
      "\n",
      "# Initialize values\n",
      "S1 = 5; S2 = 0;\n",
      "k1 = 0.1;  k2 = 0.05;\n",
      "'''\n",
      "\n",
      "r = te.loadAntimonyModel(model)\n",
      "result = r.simulate (0, 40, 100)\n",
      "te.plotWithLegend(r, result)"
     ],
     "language": "python",
     "metadata": {
      "slideshow": {
       "slide_type": "subslide"
      }
     },
     "outputs": [
      {
       "metadata": {
        "png": {
         "height": 252,
         "width": 364
        }
       },
       "output_type": "display_data",
       "png": "[encoded data removed]",
       "text": [
        "<matplotlib.figure.Figure at 0x3d81990>"
       ]
      },
      {
       "metadata": {},
       "output_type": "pyout",
       "prompt_number": 24,
       "text": [
        "<module 'matplotlib.pyplot' from '/usr/lib/pymodules/python2.7/matplotlib/pyplot.pyc'>"
       ]
      }
     ],
     "prompt_number": 24
    },
    {
     "cell_type": "heading",
     "level": 1,
     "metadata": {
      "slideshow": {
       "slide_type": "subslide"
      }
     },
     "source": [
      "Equilibrium"
     ]
    },
    {
     "cell_type": "markdown",
     "metadata": {
      "slideshow": {
       "slide_type": "-"
      }
     },
     "source": [
      "To figure out what the equilibrium values are:\n",
      "\n",
      "* Run the simulation \"long enough\" (may be tricky)\n",
      "* Or, solve analytically."
     ]
    },
    {
     "cell_type": "heading",
     "level": 1,
     "metadata": {
      "slideshow": {
       "slide_type": "subslide"
      }
     },
     "source": [
      "Solving for Equilibrium Analytically"
     ]
    },
    {
     "cell_type": "markdown",
     "metadata": {
      "slideshow": {
       "slide_type": "-"
      }
     },
     "source": [
      "We can come up with these relationships:\n",
      "\n",
      "$$ \\frac{dS_1}{dt} = 0 = -k_1S_1 + k_2S_2 $$\n",
      "$$ \\frac{dS_2}{dt} = 0 = k_1S_1 - k_2S_2 $$\n",
      "\n",
      "$$ S_1 + S_2 = S_{total} $$\n",
      "\n",
      "Which, through substitution, we can come up with the equilbrium values of S1 and S2.\n",
      "\n",
      "$$ S_1 = \\frac{k_2S_{total}}{k_1 + k_2} $$\n",
      "$$ S_2 = \\frac{k_1S_{total}}{k_1 + k_2} $$"
     ]
    },
    {
     "cell_type": "heading",
     "level": 1,
     "metadata": {
      "slideshow": {
       "slide_type": "slide"
      }
     },
     "source": [
      "Towards More Complex Models"
     ]
    },
    {
     "cell_type": "markdown",
     "metadata": {},
     "source": [
      "Now let's add a few more reactions to create a very simple pathway."
     ]
    },
    {
     "cell_type": "code",
     "collapsed": false,
     "input": [
      "model = '''\n",
      "S1 -> S2; k1*S1\n",
      "S2 -> S3; k2*S2\n",
      "S3 -> S4; k3*S3\n",
      "\n",
      "# Initialize values\n",
      "S1 = 5; S2 = 0; S3 = 0; S4 = 0;\n",
      "k1 = 0.1;  k2 = 0.55; k3 = 0.76;\n",
      "'''\n",
      "\n",
      "r = te.loadAntimonyModel(model)\n",
      "result = r.simulate (0, 50, 100)\n",
      "te.plotWithLegend(r, result)"
     ],
     "language": "python",
     "metadata": {
      "slideshow": {
       "slide_type": "subslide"
      }
     },
     "outputs": []
    },
    {
     "cell_type": "markdown",
     "metadata": {
      "slideshow": {
       "slide_type": "subslide"
      }
     },
     "source": [
      "Often times chemical species may have formation and degradation terms. \n",
      "\n",
      "These can be represented with open ended arrows as follows:"
     ]
    },
    {
     "cell_type": "code",
     "collapsed": false,
     "input": [
      "model = '''\n",
      "   -> S1; k0    # Constant generation of S1 \n",
      "S1 -> S2; k1*S1\n",
      "S2 -> S3; k2*S2\n",
      "S3 -> S4; k3*S3   \n",
      "S4 ->   ; kd*S4 # Degradation of S4\n",
      "\n",
      "# Initialize values\n",
      "S1 = 3; S2 = 0; S3 = 0; S4 = 0;\n",
      "k1 = 0.1;  k2 = 0.55; k3 = 0.76;\n",
      "\n",
      "k0 = 0.5\n",
      "kd = 0.1\n",
      "'''\n",
      "\n",
      "# Load the model\n",
      "r = te.loadAntimonyModel(model)\n",
      "\n",
      "result = r.simulate (0, 50, 100)\n",
      "te.plotWithLegend(r, result)"
     ],
     "language": "python",
     "metadata": {},
     "outputs": []
    },
    {
     "cell_type": "markdown",
     "metadata": {
      "slideshow": {
       "slide_type": "subslide"
      }
     },
     "source": [
      "To make things easy, Tellurium provides functions for analyzing model behavior, including steady state."
     ]
    },
    {
     "cell_type": "code",
     "collapsed": false,
     "input": [
      "r.getSteadyStateValues()"
     ],
     "language": "python",
     "metadata": {},
     "outputs": [
      {
       "metadata": {},
       "output_type": "pyout",
       "prompt_number": 22,
       "text": [
        "array([ 5.        ,  0.90909091,  0.65789474,  5.        ])"
       ]
      }
     ],
     "prompt_number": 22
    },
    {
     "cell_type": "heading",
     "level": 1,
     "metadata": {
      "slideshow": {
       "slide_type": "slide"
      }
     },
     "source": [
      "Advanced Plotting"
     ]
    },
    {
     "cell_type": "markdown",
     "metadata": {
      "slideshow": {
       "slide_type": "subslide"
      }
     },
     "source": [
      "Now let's observe the effects of changing the kinetic parameters using [small multiples](http://en.wikipedia.org/wiki/Small_multiple)."
     ]
    },
    {
     "cell_type": "code",
     "collapsed": false,
     "input": [
      "import notebooktools as nb\n",
      "\n",
      "param1 = 'k1'\n",
      "param1Range = [.1, .2, .4]\n",
      "\n",
      "param2 = 'k2'\n",
      "param2Range = [0.055, 0.55, 5.5]\n",
      "\n",
      "nb.plot2DParameterScan(r, param1, param1Range, param2, param2Range, end=30)"
     ],
     "language": "python",
     "metadata": {},
     "outputs": []
    },
    {
     "cell_type": "heading",
     "level": 1,
     "metadata": {
      "slideshow": {
       "slide_type": "subslide"
      }
     },
     "source": [
      "Interactive Sliders"
     ]
    },
    {
     "cell_type": "code",
     "collapsed": false,
     "input": [
      "nb.makeParameterSliders(r)"
     ],
     "language": "python",
     "metadata": {},
     "outputs": [
      {
       "metadata": {
        "png": {
         "height": 252,
         "width": 367
        }
       },
       "output_type": "display_data",
       "png": "[encoded data removed]",
       "text": [
        "<matplotlib.figure.Figure at 0x50efd90>"
       ]
      }
     ],
     "prompt_number": 37
    }
   ],
   "metadata": {}
  }
 ]
}