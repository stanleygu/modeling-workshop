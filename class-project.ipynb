{
 "metadata": {
  "signature": "sha256:91959caff0484d5d4ed7cf9ff5c0966d07f6d7d4093c0f2d20c74becaedc2e43"
 },
 "nbformat": 3,
 "nbformat_minor": 0,
 "worksheets": [
  {
   "cells": [
    {
     "cell_type": "code",
     "collapsed": false,
     "input": [
      "import tellurium as te\n",
      "import numpy\n",
      "%matplotlib inline"
     ],
     "language": "python",
     "metadata": {},
     "outputs": [],
     "prompt_number": 1
    },
    {
     "cell_type": "code",
     "collapsed": false,
     "input": [
      "antStr = '''\n",
      "// X1 is the input signal\n",
      "\n",
      "// Precedes other statements\n",
      "dna1: --P0--G0--\n",
      "\n",
      "\n",
      "//   Y1\n",
      "P0 = Vmax0*X1/(1 + X1);\n",
      "G0: -> Y1;\n",
      "Y1 -> ; gamma_0*Y1  // Y1 degrades\n",
      "\n",
      "gamma_0 = 0.1;\n",
      "Vmax0 = 5;\n",
      "X1 = 0; Y1 = 0;\n",
      "\n",
      "at (time>5): X1 = 5\n",
      "'''\n",
      "\n",
      "r = te.loadAntimonyModel(\n",
      "    antStr)\n",
      "m1a = r.simulate(0, 60, 500)\n",
      "te.plotWithLegend(r, m1a)\n",
      " "
     ],
     "language": "python",
     "metadata": {},
     "outputs": [
      {
       "metadata": {},
       "output_type": "display_data",
       "png": "[encoded data removed]",
       "text": [
        "<matplotlib.figure.Figure at 0x38d3cd0>"
       ]
      },
      {
       "metadata": {},
       "output_type": "pyout",
       "prompt_number": 2,
       "text": [
        "<module 'matplotlib.pyplot' from '/usr/lib/pymodules/python2.7/matplotlib/pyplot.pyc'>"
       ]
      }
     ],
     "prompt_number": 2
    }
   ],
   "metadata": {}
  }
 ]
}