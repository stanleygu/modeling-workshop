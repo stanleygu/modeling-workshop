{
 "metadata": {
  "signature": "sha256:17128aacea6f2c057ada6923643baca632686c82cd5d6794a5df3f4ffe226387"
 },
 "nbformat": 3,
 "nbformat_minor": 0,
 "worksheets": [
  {
   "cells": [
    {
     "cell_type": "markdown",
     "metadata": {},
     "source": [
      "Let's move the output of each cell to the side\n",
      "\n",
      "*Note: Deleting this cell will restore the default layout*"
     ]
    },
    {
     "cell_type": "code",
     "collapsed": false,
     "input": [
      "%%html\n",
      "<style>div.cell{box-orient:horizontal;flex-direction:row;}div.cell *{width:100%;}div.prompt{width:80px;}</style>"
     ],
     "language": "python",
     "metadata": {},
     "outputs": [
      {
       "html": [
        "<style>div.cell{box-orient:horizontal;flex-direction:row;}div.cell *{width:100%;}div.prompt{width:80px;}</style>"
       ],
       "metadata": {},
       "output_type": "display_data",
       "text": [
        "<IPython.core.display.HTML at 0x1802490>"
       ]
      }
     ],
     "prompt_number": 1
    }
   ],
   "metadata": {}
  }
 ]
}