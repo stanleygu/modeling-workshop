{
 "metadata": {
  "name": "",
  "signature": "sha256:aa46dc31405ea0060c3cb25bd7961ad3391952b571a9c383563154617aaf530c"
 },
 "nbformat": 3,
 "nbformat_minor": 0,
 "worksheets": [
  {
   "cells": [
    {
     "cell_type": "code",
     "collapsed": false,
     "input": [
      "%%html\n",
      "<style>\n",
      "div.cell{\n",
      "         box-orient:horizontal;\n",
      "         flex-direction:row;\n",
      "}\n",
      "\n",
      "div.cell *{\n",
      "         width:100%;\n",
      "}\n",
      "\n",
      "div.prompt{\n",
      "          width:80px;\n",
      "\n",
      "}\n",
      "</style>"
     ],
     "language": "python",
     "metadata": {},
     "outputs": [
      {
       "html": [
        "<style>\n",
        "div.cell{\n",
        "         box-orient:horizontal;\n",
        "         flex-direction:row;\n",
        "}\n",
        "\n",
        "div.cell *{\n",
        "         width:100%;\n",
        "}\n",
        "\n",
        "div.prompt{\n",
        "          width:80px;\n",
        "\n",
        "}\n",
        "</style>"
       ],
       "metadata": {},
       "output_type": "display_data",
       "text": [
        "<IPython.core.display.HTML at 0x7f47c84e6810>"
       ]
      }
     ],
     "prompt_number": 1
    },
    {
     "cell_type": "code",
     "collapsed": false,
     "input": [
      "%matplotlib inline"
     ],
     "language": "python",
     "metadata": {},
     "outputs": [],
     "prompt_number": 2
    },
    {
     "cell_type": "heading",
     "level": 1,
     "metadata": {},
     "source": [
      "Building Motif Models"
     ]
    },
    {
     "cell_type": "heading",
     "level": 2,
     "metadata": {},
     "source": [
      "Types of Feedforward Loops"
     ]
    },
    {
     "cell_type": "markdown",
     "metadata": {},
     "source": [
      "Recall that there are 8 feedforward loop (FFL) motifs.\n",
      "There two classifications:\n",
      "\n",
      "1. Coherent (C) FFL. Even number of repressors.\n",
      "2. Incoherent (I) FFL. Odd number of repressors.\n",
      "\n",
      "In all of these motifs, X is the input, and Z is the output."
     ]
    },
    {
     "cell_type": "markdown",
     "metadata": {},
     "source": [
      "<img src=\"http://i.imgur.com/vLyb9ZM.png\"  style=\"height: 400px; width: auto;\"/>"
     ]
    },
    {
     "cell_type": "markdown",
     "metadata": {},
     "source": [
      "This lecture focuses on C1-FFL and I1-FFL."
     ]
    },
    {
     "cell_type": "markdown",
     "metadata": {},
     "source": [
      "<img src=\"http://i.imgur.com/460hs5H.png\"  style=\"height: 300px; width: auto;\"/>"
     ]
    },
    {
     "cell_type": "heading",
     "level": 2,
     "metadata": {},
     "source": [
      "C1-FFL"
     ]
    },
    {
     "cell_type": "markdown",
     "metadata": {},
     "source": [
      "How do we implement C1-FFL in a gene?"
     ]
    },
    {
     "cell_type": "markdown",
     "metadata": {},
     "source": [
      "<img src=\"http://i.imgur.com/xx3oPEE.png\"  style=\"height: 200px; width: auto;\"/>"
     ]
    },
    {
     "cell_type": "markdown",
     "metadata": {},
     "source": [
      "*QUESTION*: How do P1, P2 relate to expressing P3?\n",
      "1. AND\n",
      "2. OR\n",
      "3. Many other possibilities.\n",
      "\n",
      "\n",
      "  \n"
     ]
    },
    {
     "cell_type": "markdown",
     "metadata": {},
     "source": [
      "*ANSWER*: #3 Many possibilities.\n",
      "\n",
      "For now, we assume AND."
     ]
    },
    {
     "cell_type": "markdown",
     "metadata": {},
     "source": [
      "Before constructing a model, we must be explicit about what happens to the proteins that are expressed. In the following, we assume that P2, P3 are degraded."
     ]
    },
    {
     "cell_type": "markdown",
     "metadata": {},
     "source": [
      "<img src=\"http://i.imgur.com/S0ps6Rc.png\"  style=\"height: 250px; width: auto;\"/>"
     ]
    },
    {
     "cell_type": "code",
     "collapsed": false,
     "input": [
      "import numpy\n",
      "import tellurium as te\n",
      "\n",
      "antStr = '''\n",
      "// Input: P1\n",
      "// Output: P3\n",
      "dna1: --O1--G1--O2--G2--\n",
      "\n",
      "P1 -> P1; // Put P1 in the plot\n",
      "\n",
      "O1 = Vmax*a*P1/(Km + a*P1);\n",
      "G1: -> P2;\n",
      "P2 -> ; k*P2\n",
      "\n",
      "O2 = Vmax*a*P1*P2/(Km + P1 + P2 + a*P1*P2);\n",
      "G2: -> P3;\n",
      "P3 -> ; k*P3\n",
      "\n",
      "Vmax = 0.1; k = 0.1;\n",
      "Km = 1;\n",
      "a = 100;\n",
      "P1 = 0; P2 = 0; P3 = 0;\n",
      "width = 100\n",
      "\n",
      "at (time > 1 && time < width + 1): P1 = 1\n",
      "at (time > width + 1): P1 = 0\n",
      "'''\n",
      "\n",
      "r = te.loadAntimonyModel(antStr)\n",
      "model = r.simulate(0, 50, 500)\n",
      "te.plotWithLegend(r, numpy.vstack (model))"
     ],
     "language": "python",
     "metadata": {},
     "outputs": [
      {
       "metadata": {},
       "output_type": "display_data",
       "png": "[encoded data removed]",
       "text": [
        "<matplotlib.figure.Figure at 0x7f47b24096d0>"
       ]
      },
      {
       "metadata": {},
       "output_type": "pyout",
       "prompt_number": 3,
       "text": [
        "<module 'matplotlib.pyplot' from '/usr/lib/pymodules/python2.7/matplotlib/pyplot.pyc'>"
       ]
      }
     ],
     "prompt_number": 3
    },
    {
     "cell_type": "markdown",
     "metadata": {},
     "source": [
      "What does C1-FFL do?\n",
      "\n",
      "In the foregoing:\n",
      "1. P1 is a step (non-noisy input signal)\n",
      "2. P3 grows to 1 (filtered output)."
     ]
    },
    {
     "cell_type": "code",
     "collapsed": false,
     "input": [
      "import numpy\n",
      "import tellurium as te\n",
      "\n",
      "antStr = '''\n",
      "// Input: P1\n",
      "// Output: P3\n",
      "dna1: --O1--G1--O2--G2--\n",
      "\n",
      "P1 -> P1; // Put P1 in the plot\n",
      "\n",
      "O1 = Vmax*a*P1/(Km + a*P1);\n",
      "G1: -> P2;\n",
      "P2 -> ; k*P2\n",
      "\n",
      "O2 = Vmax*a*P1*P2/(Km + P1 + P2 + a*P1*P2);\n",
      "G2: -> P3;\n",
      "P3 -> ; k*P3\n",
      "\n",
      "Vmax = 0.1; k = 0.1;\n",
      "Km = 1;\n",
      "a = 100;\n",
      "P1 = 0; P2 = 0; P3 = 0;\n",
      "width = 1\n",
      "\n",
      "at (time > 1 && time < width + 1): P1 = 1\n",
      "at (time > width + 1): P1 = 0\n",
      "'''\n",
      "\n",
      "r = te.loadAntimonyModel(antStr)\n",
      "model = r.simulate(0, 50, 500)\n",
      "te.plotWithLegend(r, numpy.vstack (model))"
     ],
     "language": "python",
     "metadata": {},
     "outputs": [
      {
       "metadata": {},
       "output_type": "display_data",
       "png": "[encoded data removed]",
       "text": [
        "<matplotlib.figure.Figure at 0x7f47b22e8dd0>"
       ]
      },
      {
       "metadata": {},
       "output_type": "pyout",
       "prompt_number": 4,
       "text": [
        "<module 'matplotlib.pyplot' from '/usr/lib/pymodules/python2.7/matplotlib/pyplot.pyc'>"
       ]
      }
     ],
     "prompt_number": 4
    },
    {
     "cell_type": "markdown",
     "metadata": {},
     "source": [
      "In the foregoing:\n",
      "1. P1 is an impulse (noisy input signal)\n",
      "2. P3 stays close to 0 (filtered output)."
     ]
    },
    {
     "cell_type": "markdown",
     "metadata": {},
     "source": [
      "\n",
      "C1-FFL does noise rejection.\n",
      "1. P1 is a noisy signal (may have short impulses as well as long steps).\n",
      "2. P3 is the filtered output.\n",
      "\n",
      "There are design trade-off for C1-FFL: speed of response vs. noise rejection.\n",
      "\n",
      "How does this motif handle longer impulses?"
     ]
    },
    {
     "cell_type": "code",
     "collapsed": false,
     "input": [
      "import numpy\n",
      "import tellurium as te\n",
      "\n",
      "antStr = '''\n",
      "// Input: P1\n",
      "// Output: P3\n",
      "dna1: --O1--G1--O2--G2--\n",
      "\n",
      "P1 -> P1; // Put P1 in the plot\n",
      "\n",
      "O1 = Vmax*a*P1/(Km + a*P1);\n",
      "G1: -> P2;\n",
      "P2 -> ; k*P2\n",
      "\n",
      "O2 = Vmax*a*P1*P2/(Km + P1 + P2 + a*P1*P2);\n",
      "G2: -> P3;\n",
      "P3 -> ; k*P3\n",
      "\n",
      "Vmax = 0.1; k = 0.1;\n",
      "Km = 1;\n",
      "a = 100;\n",
      "P1 = 0; P2 = 0; P3 = 0;\n",
      "width = 10\n",
      "\n",
      "at (time > 1 && time < width + 1): P1 = 1\n",
      "at (time > width + 1): P1 = 0\n",
      "'''\n",
      "\n",
      "r = te.loadAntimonyModel(antStr)\n",
      "model = r.simulate(0, 50, 500)\n",
      "te.plotWithLegend(r, numpy.vstack (model))"
     ],
     "language": "python",
     "metadata": {},
     "outputs": [
      {
       "metadata": {},
       "output_type": "display_data",
       "png": "[encoded data removed]",
       "text": [
        "<matplotlib.figure.Figure at 0x7f47b226c650>"
       ]
      },
      {
       "metadata": {},
       "output_type": "pyout",
       "prompt_number": 5,
       "text": [
        "<module 'matplotlib.pyplot' from '/usr/lib/pymodules/python2.7/matplotlib/pyplot.pyc'>"
       ]
      }
     ],
     "prompt_number": 5
    },
    {
     "cell_type": "markdown",
     "metadata": {},
     "source": [
      "This C1-FFL still filters. But it has a larger (response) than for the shorter input impulses.\n",
      "\n",
      "*QUESTION*: How can we change the motif to filter longer impulses?\n",
      "\n",
      "*Hint*: Need to change the kinetics of of the O1 and O2 operators.\n",
      "\n",
      "*QUESTION*: Do we want slower or faster kinetics?"
     ]
    },
    {
     "cell_type": "code",
     "collapsed": false,
     "input": [
      "import numpy\n",
      "import tellurium as te\n",
      "\n",
      "antStr = '''\n",
      "// Input: P1\n",
      "// Output: P3\n",
      "dna1: --O1--G1--O2--G2--\n",
      "\n",
      "P1 -> P1; // Put P1 in the plot\n",
      "\n",
      "O1 = Vmax*a*P1/(Km + a*P1);\n",
      "G1: -> P2;\n",
      "P2 -> ; k*P2\n",
      "\n",
      "O2 = Vmax*a*P1*P2/(Km + P1 + P2 + a*P1*P2);\n",
      "G2: -> P3;\n",
      "P3 -> ; k*P3\n",
      "\n",
      "Vmax = 0.01; k = 0.01;\n",
      "Km = 1;\n",
      "a = 100;\n",
      "P1 = 0; P2 = 0; P3 = 0;\n",
      "width = 10\n",
      "\n",
      "at (time > 1 && time < width + 1): P1 = 1\n",
      "at (time > width + 1): P1 = 0\n",
      "'''\n",
      "\n",
      "r = te.loadAntimonyModel(antStr)\n",
      "model = r.simulate(0, 50, 500)\n",
      "te.plotWithLegend(r, numpy.vstack (model))"
     ],
     "language": "python",
     "metadata": {},
     "outputs": [
      {
       "metadata": {},
       "output_type": "display_data",
       "png": "[encoded data removed]",
       "text": [
        "<matplotlib.figure.Figure at 0x7f47b2250310>"
       ]
      },
      {
       "metadata": {},
       "output_type": "pyout",
       "prompt_number": 6,
       "text": [
        "<module 'matplotlib.pyplot' from '/usr/lib/pymodules/python2.7/matplotlib/pyplot.pyc'>"
       ]
      }
     ],
     "prompt_number": 6
    },
    {
     "cell_type": "markdown",
     "metadata": {},
     "source": [
      "*QUESTION*: Why did we make Vmax and k equal to 0.01?"
     ]
    },
    {
     "cell_type": "markdown",
     "metadata": {},
     "source": [
      "*QUESTION*: Why did we keep the same ratio between Vmax and k?\n",
      "\n",
      "Hint: We want to change the kinetics, not the equilibrium values."
     ]
    },
    {
     "cell_type": "markdown",
     "metadata": {},
     "source": [
      "*QUESTION*: What happens to the step response with smaller values of Vmax and k?"
     ]
    },
    {
     "cell_type": "code",
     "collapsed": false,
     "input": [
      "import numpy\n",
      "import tellurium as te\n",
      "\n",
      "antStr = '''\n",
      "// Input: P1\n",
      "// Output: P3\n",
      "dna1: --O1--G1--O2--G2--\n",
      "\n",
      "P1 -> P1; // Put P1 in the plot\n",
      "\n",
      "O1 = Vmax*a*P1/(Km + a*P1);\n",
      "G1: -> P2;\n",
      "P2 -> ; k*P2\n",
      "\n",
      "O2 = Vmax*a*P1*P2/(Km + P1 + P2 + a*P1*P2);\n",
      "G2: -> P3;\n",
      "P3 -> ; k*P3\n",
      "\n",
      "Vmax = 0.01; k = 0.01;\n",
      "Km = 1;\n",
      "a = 100;\n",
      "P1 = 0; P2 = 0; P3 = 0;\n",
      "width = 100\n",
      "\n",
      "at (time > 1 && time < width + 1): P1 = 1\n",
      "at (time > width + 1): P1 = 0\n",
      "'''\n",
      "\n",
      "r = te.loadAntimonyModel(antStr)\n",
      "model = r.simulate(0, 50, 500)\n",
      "te.plotWithLegend(r, numpy.vstack (model))"
     ],
     "language": "python",
     "metadata": {},
     "outputs": [
      {
       "metadata": {},
       "output_type": "display_data",
       "png": "[encoded data removed]",
       "text": [
        "<matplotlib.figure.Figure at 0x7f47b21fef50>"
       ]
      },
      {
       "metadata": {},
       "output_type": "pyout",
       "prompt_number": 7,
       "text": [
        "<module 'matplotlib.pyplot' from '/usr/lib/pymodules/python2.7/matplotlib/pyplot.pyc'>"
       ]
      }
     ],
     "prompt_number": 7
    },
    {
     "cell_type": "heading",
     "level": 2,
     "metadata": {},
     "source": [
      "I1-FFL"
     ]
    },
    {
     "cell_type": "markdown",
     "metadata": {},
     "source": [
      "<img src=\"http://i.imgur.com/eOebHfS.png\"  style=\"height: 250px; width: auto;\"/>"
     ]
    },
    {
     "cell_type": "markdown",
     "metadata": {},
     "source": [
      "*QUESTION*: Which of the following changes in the model of I1-FFL vs. C1-FFL\n",
      "1. Kinetics for Operator 1 (O1).\n",
      "2. Kinetics for Operator 2 (O2).\n",
      "3. Kinetics for both O1 and O2."
     ]
    },
    {
     "cell_type": "code",
     "collapsed": false,
     "input": [
      "import numpy\n",
      "import tellurium as te\n",
      "\n",
      "antStr = '''\n",
      "// Input: P1\n",
      "// Output: P3\n",
      "dna1: --O1--G1--O2--G2--\n",
      "\n",
      "P1 -> P1; // Put P1 in the plot\n",
      "\n",
      "O1 = Vmax1*a*P1/(Km + a*P1);\n",
      "G1: -> P2;\n",
      "P2 -> ; k1*P2\n",
      "\n",
      "O2 = Vmax2*P1/(Km + P1 + P2 + a*P1*P2);\n",
      "G2: -> P3;\n",
      "P3 -> ; k2*P3\n",
      "\n",
      "Vmax1 = 0.01; k1 = 0.01;\n",
      "Vmax2 = 1; k2 = 1;\n",
      "Km = 1;\n",
      "a = 100;\n",
      "P1 = 0; P2 = 0; P3 = 0;\n",
      "width = 100\n",
      "\n",
      "at (time > 1 && time < width + 1): P1 = 1\n",
      "at (time > width + 1): P1 = 0\n",
      "'''\n",
      "\n",
      "r = te.loadAntimonyModel(antStr)\n",
      "model = r.simulate(0, 50, 500)\n",
      "te.plotWithLegend(r, numpy.vstack (model))"
     ],
     "language": "python",
     "metadata": {},
     "outputs": [
      {
       "metadata": {},
       "output_type": "display_data",
       "png": "[encoded data removed]",
       "text": [
        "<matplotlib.figure.Figure at 0x7f47b22c8550>"
       ]
      },
      {
       "metadata": {},
       "output_type": "pyout",
       "prompt_number": 8,
       "text": [
        "<module 'matplotlib.pyplot' from '/usr/lib/pymodules/python2.7/matplotlib/pyplot.pyc'>"
       ]
      }
     ],
     "prompt_number": 8
    },
    {
     "cell_type": "markdown",
     "metadata": {},
     "source": [
      "Step input P1 produces an delayed impulse output P3."
     ]
    },
    {
     "cell_type": "markdown",
     "metadata": {},
     "source": [
      "*QUESTION*: How can I1-FFL be used?\n",
      "1. Convert a step input to an impulse output.\n",
      "2. Recognize concentrations of the input P1.\n",
      "3. Frequency band filter."
     ]
    },
    {
     "cell_type": "code",
     "collapsed": false,
     "input": [],
     "language": "python",
     "metadata": {},
     "outputs": [],
     "prompt_number": 8
    }
   ],
   "metadata": {}
  }
 ]
}