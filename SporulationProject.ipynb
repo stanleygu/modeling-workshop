{
 "metadata": {
  "name": "",
  "signature": "sha256:07fdd50e5d0a02c87e497e36f543127e385cd0dfc5b1a6cbbe2addacb874d8c2"
 },
 "nbformat": 3,
 "nbformat_minor": 0,
 "worksheets": [
  {
   "cells": [
    {
     "cell_type": "markdown",
     "metadata": {},
     "source": [
      "#CLASS PROJECT"
     ]
    },
    {
     "cell_type": "heading",
     "level": 2,
     "metadata": {},
     "source": [
      "Setup"
     ]
    },
    {
     "cell_type": "markdown",
     "metadata": {},
     "source": [
      "And the following code let's us see plots in the notebook."
     ]
    },
    {
     "cell_type": "code",
     "collapsed": false,
     "input": [
      "%matplotlib inline"
     ],
     "language": "python",
     "metadata": {},
     "outputs": [],
     "prompt_number": 1
    },
    {
     "cell_type": "markdown",
     "metadata": {},
     "source": [
      "Restarting the iPython kernel to reset your environment:\n",
      "\n",
      "1. Kernel>restart>restart\n",
      "2. Cell>Run All"
     ]
    },
    {
     "cell_type": "heading",
     "level": 1,
     "metadata": {},
     "source": [
      "Problem Description"
     ]
    },
    {
     "cell_type": "markdown",
     "metadata": {},
     "source": [
      "*Reference*:\n",
      "Alon, Uri, Network motifs: theory and experimental approaches.\n",
      "Nature Reviews Genetics,\n",
      "jun,\n",
      "vol 8, no 6, 2007,\n",
      "pp. 450--61."
     ]
    },
    {
     "cell_type": "markdown",
     "metadata": {},
     "source": [
      "This project models a gene network in B. subtilis related to sporulation. Sporulation is a developmental process that occurs in response to a starvation signal. The process is:\n",
      "1. The starvation signal activates Spo0A, designated as X1 in the following.\n",
      "2. X1 is input to an I1-FFL that expresses Y1 to do a pulse expression of gene Z1.\n",
      "3. A C1-FFL does AND logic between X1 and Y1. The output is X2. This ensures that X1 is persistent before X2 is expressed.\n",
      "4. X2 is input to a second I1-FFL that expresses Y2 and generates a pulse Z2, with a delay relative to Z1.\n",
      "5. X2 and Y2 are input to AND logic of a C1-FFL that generates the pulse Z3."
     ]
    },
    {
     "cell_type": "markdown",
     "metadata": {},
     "source": [
      "__QUESTION__: What is the gene network diagram for this model?"
     ]
    },
    {
     "cell_type": "heading",
     "level": 1,
     "metadata": {},
     "source": [
      "The Diagram"
     ]
    },
    {
     "cell_type": "code",
     "collapsed": false,
     "input": [
      "%%javascript\n",
      "function toggle_visibility(id) {\n",
      "   var e = document.getElementById(id);\n",
      "   if(e.style.display == 'block')\n",
      "      e.style.display = 'none';\n",
      "   else\n",
      "      e.style.display = 'block';\n",
      "}"
     ],
     "language": "python",
     "metadata": {},
     "outputs": [
      {
       "javascript": [
        "function toggle_visibility(id) {\n",
        "   var e = document.getElementById(id);\n",
        "   if(e.style.display == 'block')\n",
        "      e.style.display = 'none';\n",
        "   else\n",
        "      e.style.display = 'block';\n",
        "}"
       ],
       "metadata": {},
       "output_type": "display_data",
       "text": [
        "<IPython.core.display.Javascript at 0x7f70ca0c4810>"
       ]
      }
     ],
     "prompt_number": 1
    },
    {
     "cell_type": "markdown",
     "metadata": {},
     "source": [
      "<a onclick=\"toggle_visibility('foo01')\">ANSWER</a>: \n",
      "<div id='foo01' style=\"display: none;\">\n",
      "<img src=\"http://i.imgur.com/bXt0F5h.png\"  style=\"height: 400px; width: auto;\"/>\n",
      "</div>"
     ]
    },
    {
     "cell_type": "markdown",
     "metadata": {},
     "source": [
      "<img src=\"file:///mnt/hgfs/Download/Images/SporulationNetwork.png\">\n"
     ]
    },
    {
     "cell_type": "heading",
     "level": 1,
     "metadata": {},
     "source": [
      "Building the model"
     ]
    },
    {
     "cell_type": "heading",
     "level": 2,
     "metadata": {},
     "source": [
      "Y1 and Z1\n"
     ]
    },
    {
     "cell_type": "markdown",
     "metadata": {},
     "source": [
      "We'll start by modeling Z1. This is produced by a I1-FFL that inputs X1 (which is activated by the starvation signal). This I1-FFL produces Y1 and expresses Z1. So, we need two genes. G0 expresses Y1, and G1 expresses Z1. For each gene, there is an upstream promoter.\n"
     ]
    },
    {
     "cell_type": "markdown",
     "metadata": {},
     "source": [
      "__QUESTION__: What is the antimony code to express this DNA strand?"
     ]
    },
    {
     "cell_type": "markdown",
     "metadata": {},
     "source": [
      "<a onclick=\"toggle_visibility('foo100')\">ANSWER</a>: \n",
      "<div id='foo100' style=\"display: none;\">\n",
      "dna1: --P0--G0--P1--G1--\n",
      "</div>"
     ]
    },
    {
     "cell_type": "markdown",
     "metadata": {},
     "source": [
      "We will model the expression of Y1 by having X1 bind to P0. \n",
      "\n",
      "__PROBLEM__: We denote the maximum velocity of this reaction by Vmax0. Write the antimony code that describes the relevant reactions. Don't forget to include the degradation of Y1, and use gamma_0 as the reaction rate for the degradation.\n"
     ]
    },
    {
     "cell_type": "markdown",
     "metadata": {},
     "source": [
      "<a onclick=\"toggle_visibility('foo101')\">ANSWER</a>: \n",
      "<div id='foo101' style=\"display: none;\">\n",
      "// X1 is the input signal\n",
      "\n",
      "    // Must precede other assignments\n",
      "    dna1: --P0--G0--P1--G1--\n",
      "\n",
      "    // Z1 = FFL-I1(X1). P0/G0, P1/G1.\n",
      "    //   Y1\n",
      "    P0 = Vmax0*X1^6/(1 + a1*X1^6);\n",
      "    G0: -> Y1;\n",
      "    Y1 -> ; gamma_0*Y1  // Y1 degrades\n",
      "</div>\n"
     ]
    },
    {
     "cell_type": "markdown",
     "metadata": {},
     "source": [
      "__PROBLEM__: Create a python program that simulates Y1. Initially, X1 is not present. At 5s, X1 is 5M (because of the response to the starvation signal). Then, run the program in the cell.\n"
     ]
    },
    {
     "cell_type": "markdown",
     "metadata": {},
     "source": [
      "<a onclick=\"toggle_visibility('foo011')\">ANSWER</a>: \n",
      "<div id='foo011' style=\"display: none;\">\n",
      "import numpy\n",
      "import tellurium as te\n",
      "\n",
      "antStr = '''\n",
      "// X1 is the input signal\n",
      "\n",
      "// Precedes other statements\n",
      "dna1: --P0--G0--\n",
      "\n",
      "\n",
      "//   Y1\n",
      "P0 = Vmax0*X1/(1 + X1);\n",
      "G0: -> Y1;\n",
      "Y1 -> ; gamma_0*Y1  // Y1 degrades\n",
      "\n",
      "gamma_0 = 0.1;\n",
      "Vmax0 = 5;\n",
      "X1 = 0; Y1 = 0;\n",
      "\n",
      "at (time >5): X1 = 5\n",
      "'''\n",
      "\n",
      "r = te.loadAntimonyModel(antStr)\n",
      "model = r.simulate(0, 60, 500)\n",
      "te.plotWithLegend(r, numpy.vstack ((model)))\n",
      "</div>"
     ]
    },
    {
     "cell_type": "markdown",
     "metadata": {},
     "source": [
      "Note that the antimony event\n",
      "    at (time >5): X1 = 5\n",
      "provides a way to change the concentration of X1."
     ]
    },
    {
     "cell_type": "markdown",
     "metadata": {},
     "source": [
      "__QUESTION__: Which variable in the model should be changed to make the response time faster?"
     ]
    },
    {
     "cell_type": "markdown",
     "metadata": {},
     "source": [
      "<a onclick=\"toggle_visibility('foo0')\">ANSWER</a>: \n",
      "<div id='foo0' style=\"display: none;\">\n",
      "Change the model for P0.\n",
      "</div>"
     ]
    },
    {
     "cell_type": "markdown",
     "metadata": {},
     "source": [
      "__QUESTION__: How should the variable be changed to make the response time faster?"
     ]
    },
    {
     "cell_type": "markdown",
     "metadata": {},
     "source": [
      "<a onclick=\"toggle_visibility('foo200')\">ANSWER</a>: \n",
      "<div id='foo200' style=\"display: none;\">\n",
      "We make the response time faster by raising the input signal to a power. For example: \n",
      "    P0 = Vmax0*X1^6/(1 + X1^6);\n",
      "Update the model in the cell below and run it.\n",
      "</div>"
     ]
    },
    {
     "cell_type": "markdown",
     "metadata": {},
     "source": [
      "See how Y1p rises much faster than Y1. We'll now use Y1p instead of Y1."
     ]
    },
    {
     "cell_type": "markdown",
     "metadata": {},
     "source": [
      "Sometimes, we want to scale and shape the curve a bit to get the right gene program. One way to do this is to add a constant in the denominator of the kinetics equation. For \n",
      "     P0\n",
      "we use,\n",
      "    a1 = 10.\n",
      "    \n",
      "\n",
      "\n",
      "\n",
      "\n"
     ]
    },
    {
     "cell_type": "markdown",
     "metadata": {},
     "source": [
      "<a onclick=\"toggle_visibility('foo001')\">ANSWER</a>: \n",
      "<div id='foo001' style=\"display: none;\">\n",
      "\n",
      "import numpy\n",
      "import tellurium as te\n",
      "\n",
      "antStr = '''\n",
      "// X1 is the input signal\n",
      "\n",
      "// Precedes other statements\n",
      "dna1: --P0--G0--P0p--G0p--\n",
      "\n",
      "\n",
      "//   Y1\n",
      "P0 = Vmax0*X1^6/(1 + X1^6);\n",
      "G0: -> Y1;\n",
      "Y1 -> ; gamma_0*Y1  // Y1 degrades\n",
      "\n",
      "//   Y1p with a scale factor\n",
      "P0p = Vmax0*X1^6/(1 + a1*X1^6);\n",
      "G0p: -> Y1p;\n",
      "Y1p -> ; gamma_0*Y1p  // Y1 degrades\n",
      "\n",
      "a1 = 10;\n",
      "gamma_0 = 0.1;\n",
      "Vmax0 = 5;\n",
      "X1 = 0; Y1 = 0;\n",
      "\n",
      "at (time >5): X1 = 5\n",
      "'''\n",
      "\n",
      "r = te.loadAntimonyModel(antStr)\n",
      "model = r.simulate(0, 60, 500)\n",
      "te.plotWithLegend(r, numpy.vstack ((model)))\n",
      "\n",
      "</div>"
     ]
    },
    {
     "cell_type": "markdown",
     "metadata": {},
     "source": [
      "Next we compute \n",
      "    Z1,\n",
      "the output signal of the I1-FFL. This requires a second gene and reaction kinetics that result in Z1 = X1 AND NOT Y1. "
     ]
    },
    {
     "cell_type": "markdown",
     "metadata": {},
     "source": [
      "__PROBLEM__: Write additional antimony code that implements this logic. The kinetics equation for P1 implements the logic X1 and NOT Y1. \n",
      "The inputs to the AND are terms in the polynomial in the denominator of the\n",
      "kinetics equation. Terms without a NOT appear in the numerator.\n",
      "Exponents and multiplication constants are used to scale and shape the signal."
     ]
    },
    {
     "cell_type": "markdown",
     "metadata": {},
     "source": [
      "<a onclick=\"toggle_visibility('foo0010001')\">ANSWER</a>: \n",
      "<div id='foo0010001' style=\"display: none;\">\n",
      "import numpy\n",
      "import tellurium as te\n",
      "\n",
      "antStr = '''\n",
      "\n",
      "// X1 is the input signal\n",
      "\n",
      "// Must precede other assignments\n",
      "dna1: --P0--G0--P1--G1--\n",
      "\n",
      "\n",
      "// Z1 = FFL-I1(X1). P0/G0, P1/G1.\n",
      "//   Y1\n",
      "P0 = Vmax0*X1^6/(1 + a1*X1^6);\n",
      "G0: -> Y1;\n",
      "Y1 -> ; gamma_0*Y1  // Y1 degrades\n",
      "\n",
      "//  Z1 = X1 AND NOT Y1\n",
      "P1 = Vmax1*b1*X1/(1 + b1*X1 + b2*Y1 + b3*X1*Y1^4);\n",
      "G1: -> Z1;\n",
      "Z1 -> ; gamma_1*Z1  // Z1 degraes\n",
      "\n",
      "a1 = 10; b1 = 0.1; b2 = 0.1; b3 = 0.1;\n",
      "gamma_0 = 0.1; gamma_1 = 0.1\n",
      "Vmax0 = 5; Vmax1 = 12;\n",
      "X1 = 0; Y1 = 0; Z1 = 0;\n",
      "\n",
      "at (time >5): X1 = 5\n",
      "'''\n",
      "\n",
      "r = te.loadAntimonyModel(antStr)\n",
      "model = r.simulate(0, 60, 500)\n",
      "te.plotWithLegend(r, numpy.vstack ((model)))\n",
      "</div>"
     ]
    },
    {
     "cell_type": "markdown",
     "metadata": {},
     "source": [
      "The code is getting longer, and soon it may be difficult to focus on the new code that we add.\n",
      "\n",
      "We need to structure the code so that we can identify the source of problems (e.g., bugs in models) and identify where changes are required if new features are to be implemented.\n"
     ]
    },
    {
     "cell_type": "markdown",
     "metadata": {},
     "source": [
      "__PROBLEM__: Restructure the code as separate python strings as follows:\n",
      "\n",
      "1. Code the produces Y1\n",
      "2. Code the produces Z1\n",
      "3. Python \"wrapper\" that executes #1 and #2."
     ]
    },
    {
     "cell_type": "markdown",
     "metadata": {},
     "source": [
      "<a onclick=\"toggle_visibility('foo02001')\">ANSWER</a>: \n",
      "<div id='foo02001' style=\"display: none;\">\n",
      "antStr_Y1 = '''\n",
      "\n",
      "// X1 is the input signal\n",
      "\n",
      "// Must precede other assignments\n",
      "dna1: --P0--G0--P1--G1--\n",
      "\n",
      "\n",
      "// Z1 = FFL-I1(X1). P0/G0, P1/G1.\n",
      "//   Y1\n",
      "P0 = Vmax0*X1^6/(1 + a1*X1^6);\n",
      "G0: -> Y1;\n",
      "Y1 -> ; gamma_0*Y1  // Y1 degrades\n",
      "\n",
      "a1 = 10;\n",
      "Vmax0 = 5;\n",
      "X1 = 0; Y1 = 0;\n",
      "'''\n",
      "\n",
      "\n",
      "antStr_Z1 = '''\n",
      "\n",
      "//  Z1 = X1 AND NOT Y1\n",
      "P1 = Vmax1*b1*X1/(1 + b1*X1 + b2*Y1 + b3*X1*Y1^4);\n",
      "G1: -> Z1;\n",
      "Z1 -> ; gamma_1*Z1  // Z1 degraes\n",
      "\n",
      "b1 = 0.1; b2 = 0.1; b3 = 0.1;\n",
      "gamma_0 = 0.1; gamma_1 = 0.1\n",
      "Vmax1 = 12;\n",
      "Z1 = 0;\n",
      "\n",
      "at (time >5): X1 = 5\n",
      "'''\n",
      "\n",
      "\n",
      "import numpy\n",
      "import tellurium as te\n",
      "antStr = antStr_Y1 + antStr_Z1\n",
      "r = te.loadAntimonyModel(antStr)\n",
      "model = r.simulate(0, 60, 500)\n",
      "te.plotWithLegend(r, numpy.vstack ((model)))\n",
      "</div>"
     ]
    },
    {
     "cell_type": "markdown",
     "metadata": {},
     "source": [
      "__PROBLEM__: Extend this by defining antimony code in one cell and then use it in a subsequent cell. Note that you have to execute the cell before the string is defined (such as antStr_Y1)."
     ]
    },
    {
     "cell_type": "markdown",
     "metadata": {},
     "source": [
      "antStr_X2 = '''\n",
      "'''\n",
      "import numpy\n",
      "import tellurium as te\n",
      "antStr = (antStr_dna + antStr_Y1 + antStr_Z1 \n",
      "          + antStr_X2 + antStr_ev)\n",
      "r = te.loadAntimonyModel(antStr)\n",
      "model = r.simulate(0, 60, 500)\n",
      "te.plotWithLegend(r, numpy.vstack ((model)))"
     ]
    },
    {
     "cell_type": "markdown",
     "metadata": {},
     "source": [
      "<a onclick=\"toggle_visibility('foo022')\">ANSWER for antStr_dna</a>: \n",
      "<div id='foo022' style=\"display: none;\">\n",
      "antStr_dna = 'dna1: --P0--G0--P1--G1--'\n",
      "</div>"
     ]
    },
    {
     "cell_type": "markdown",
     "metadata": {},
     "source": [
      "<a onclick=\"toggle_visibility('foo023')\">ANSWER for antStr_Y1</a>: \n",
      "<div id='foo023' style=\"display: none;\">\n",
      "antStr_Y1 = '''\n",
      "\n",
      "// Y1\n",
      "P0 = Vmax0*X1^6/(1 + a1*X1^6);\n",
      "G0: -> Y1;\n",
      "Y1 -> ; gamma_0*Y1  // Y1 degrades\n",
      "\n",
      "a1 = 10;\n",
      "Vmax0 = 5;\n",
      "X1 = 0; Y1 = 0;\n",
      "'''\n",
      "</div>"
     ]
    },
    {
     "cell_type": "markdown",
     "metadata": {},
     "source": [
      "<a onclick=\"toggle_visibility('foo024')\">ANSWER for antStr_Z1</a>: \n",
      "<div id='foo023' style=\"display: none;\">\n",
      "antStr_Z1 = '''\n",
      "\n",
      "//  Z1 = X1 AND NOT Y1\n",
      "P1 = Vmax1*b1*X1/(1 + b1*X1 + b2*Y1 + b3*X1*Y1^4);\n",
      "G1: -> Z1;\n",
      "Z1 -> ; gamma_1*Z1  // Z1 degraes\n",
      "\n",
      "b1 = 0.1; b2 = 0.1; b3 = 0.1;\n",
      "gamma_0 = 0.1; gamma_1 = 0.1\n",
      "Vmax1 = 12;\n",
      "Z1 = 0;\n",
      "'''\n",
      "</div>"
     ]
    },
    {
     "cell_type": "markdown",
     "metadata": {},
     "source": [
      "<a onclick=\"toggle_visibility('foo023')\">ANSWER for antStr_ev</a>: \n",
      "<div id='foo023' style=\"display: none;\">\n",
      "antStr_ev = '''\n",
      "at (time >5): X1 = 5\n",
      "'''\n",
      "</div>"
     ]
    },
    {
     "cell_type": "markdown",
     "metadata": {},
     "source": [
      "__QUESTION__: Which strings must be modified to model the expression of X2?"
     ]
    },
    {
     "cell_type": "markdown",
     "metadata": {},
     "source": [
      "<a onclick=\"toggle_visibility('foo3')\">ANSWER</a>: \n",
      "<div id='foo3' style=\"display: none;\">\n",
      "To express X2, we'll need another promoter and gene, and we'll need code that describes the reactions that take place to express X2. So, we need to modify antStr_dna and antStr_X2.\n",
      "</div>"
     ]
    },
    {
     "cell_type": "markdown",
     "metadata": {},
     "source": [
      "__PROBLEM__: Do the modifications needed to express X2, including the addition of another gene and promoter."
     ]
    },
    {
     "cell_type": "markdown",
     "metadata": {},
     "source": [
      "<a onclick=\"toggle_visibility('foo300')\">ANSWER antStr_dna</a>: \n",
      "<div id='foo300' style=\"display: none;\">\n",
      "<pre>\n",
      "antStr_dna = '''\n",
      "\n",
      "dna1: --P0--G0--P1--G1--P2--G2--\n",
      "\n",
      "'''\n",
      "</pre>\n",
      "</div>"
     ]
    },
    {
     "cell_type": "markdown",
     "metadata": {},
     "source": [
      "<a onclick=\"toggle_visibility('foo301')\">ANSWER antStr_X2</a>: \n",
      "<div id='foo301' style=\"display: none;\">\n",
      "<pre>\n",
      "antStr_X2 = '''\n",
      "\n",
      "// X2 = X1 AND Y1. P2/G2.\n",
      "P2numr = Vmax2*X1^10*Y1^10;\n",
      "P2denom = 1 + c1*X1^10 + c2*Y1^10 + c3*X1*Y1^10;\n",
      "P2 = P2numr / P2denom;\n",
      "P2 = Vmax2*X1^10*Y1^10/(1 + c1*X1^10 + c2*Y1^10 + c3*X1*Y1^10);\n",
      "G2: -> X2;\n",
      "X2  -> ; gamma_2*X2\n",
      "\n",
      "c1 = 4.5; c2 = 15; c3 = 10.95;\n",
      "gamma_2 = 2\n",
      "Vmax2 = 0.00008;\n",
      "X2 = 0;\n",
      "'''\n",
      "</pre></div>"
     ]
    },
    {
     "cell_type": "code",
     "collapsed": false,
     "input": [
      "import numpy\n",
      "import tellurium as te\n",
      "antStr = (antStr_dna + antStr_Y1 + antStr_Z1 \n",
      "          + antStr_X2 + antStr_ev)\n",
      "r = te.loadAntimonyModel(antStr)\n",
      "model = r.simulate(0, 60, 500)\n",
      "te.plotWithLegend(r, numpy.vstack ((model)))"
     ],
     "language": "python",
     "metadata": {},
     "outputs": []
    },
    {
     "cell_type": "markdown",
     "metadata": {},
     "source": [
      "Z2 is expressed as a I1-FFL with X2.\n",
      "\n",
      "__QUESTION__: How many genes must be added to express Z2? "
     ]
    },
    {
     "cell_type": "markdown",
     "metadata": {},
     "source": [
      "<a onclick=\"toggle_visibility('foo4')\">ANSWER</a>: \n",
      "<div id='foo4' style=\"display: none;\">\n",
      "Two genes are required. One expresses Y2 and the second expresses Z2 = X2 AND NOT Y2.\n",
      "</div>"
     ]
    },
    {
     "cell_type": "markdown",
     "metadata": {},
     "source": [
      "__QUESTION__: Write the kinetics equation for the promoter for the gene that expresses Z2. Use the constants Vmax4, d1, d2, d3, gamma_4. Use an exponent of 4 for X2 and Y2."
     ]
    },
    {
     "cell_type": "markdown",
     "metadata": {},
     "source": [
      "<a onclick=\"toggle_visibility('foo5')\">ANSWER</a>: \n",
      "<div id='foo5' style=\"display: none;\">\n",
      "<pre>\n",
      "\n",
      "    P4 = Vmax4*d1*X2^4/(1 + d1*X2^4 + d2*Y2^4 + d3*X2^4*Y2^4);\n",
      "    \n",
      "    G4: -> Z2;\n",
      "    \n",
      "    Z2 -> ; gamma_4*Z2\n",
      "</pre>\n",
      "</div>"
     ]
    },
    {
     "cell_type": "markdown",
     "metadata": {},
     "source": [
      "__PROBLEM__: Write the antimony code to compute Z2, extending the python wrapper as required."
     ]
    },
    {
     "cell_type": "markdown",
     "metadata": {},
     "source": [
      "<a onclick=\"toggle_visibility('foo500')\">ANSWER</a>: \n",
      "<div id='foo500' style=\"display: none;\">\n",
      "<pre>\n",
      "antStr_dna = '''\n",
      "\n",
      "dna1: --P0--G0--P1--G1--P2--G2--P3--G3--P4--G4--\n",
      "\n",
      "'''\n",
      "\n",
      "antStr_Z2 = '''\n",
      "\n",
      "// Y2. P3/G3.\n",
      "P3 = Vmax3*X2^4/(1 + f1*X2^4);\n",
      "G3: -> Y2;\n",
      "Y2 -> ; gamma_3*Y2\n",
      "\n",
      "f1 = 5;\n",
      "gamma_3 = 0.75; \n",
      "Vmax3 = 22; \n",
      "Y2 = 0; \n",
      "\n",
      "\n",
      "// Z2 = X2 AND NOT Y2. P4/G4.\n",
      "P4 = Vmax4*d1*X2^4/(1 + d1*X2^4 + d2*Y2^4 + d3*X2^4*Y2^4);\n",
      "P4 = Vmax4*d1*X2^4/(1 + d1*X2^4 + d2*Y2^4 + d3*X2^4*Y2^4);\n",
      "G4: -> Z2;\n",
      "Z2 -> ; gamma_4*Z2\n",
      "\n",
      "d1 = 1; d2 = 0.1; d3 = 5;\n",
      "gamma_4 = 0.6;\n",
      "Vmax4 = 140;\n",
      "Z2 = 0;\n",
      "'''\n",
      "\n",
      "</pre>\n",
      "</div>"
     ]
    },
    {
     "cell_type": "code",
     "collapsed": false,
     "input": [
      "import numpy\n",
      "import tellurium as te\n",
      "antStr = (antStr_dna + antStr_Y1 + antStr_Z1 \n",
      "          + antStr_X2 + antStr_Z2 + antStr_ev)\n",
      "r = te.loadAntimonyModel(antStr)\n",
      "model = r.simulate(0, 60, 500)\n",
      "te.plotWithLegend(r, numpy.vstack ((model)))"
     ],
     "language": "python",
     "metadata": {},
     "outputs": []
    },
    {
     "cell_type": "markdown",
     "metadata": {},
     "source": [
      "__PROBLEM__: Implement the model extensions needed to express Z3."
     ]
    },
    {
     "cell_type": "markdown",
     "metadata": {},
     "source": [
      "<a onclick=\"toggle_visibility('foo502')\">ANSWER</a>: \n",
      "<div id='foo502' style=\"display: none;\">\n",
      "<pre>\n",
      "antStr_dna = '''\n",
      "\n",
      "dna1: --P0--G0--P1--G1--P2--G2--P3--G3--P4--G4--P5--G5--\n",
      "\n",
      "'''\n",
      "\n",
      "antStr_Z3 = '''\n",
      "\n",
      "// Z3 = X2 AND Y2\n",
      "P5 = Vmax5*X2^10*Y2^10/(1 + g1*X2^10 + g2*Y2^10 + g3*X2*Y2^10);\n",
      "G5: -> Z3;\n",
      "Z3 -> ; gamma_5*Z3\n",
      "\n",
      "g1 = 20; g2 = 25; g3 = 10.95;\n",
      "gamma_5 = 2;\n",
      "Vmax5 = 0.00006;\n",
      "Z3 = 0;\n",
      "\n",
      "'''\n",
      "\n",
      "</pre>\n",
      "</div>"
     ]
    },
    {
     "cell_type": "code",
     "collapsed": false,
     "input": [
      "import numpy\n",
      "import tellurium as te\n",
      "antStr = (antStr_dna + antStr_Y1 + antStr_Z1 \n",
      "          + antStr_X2 + antStr_Z2 + antStr_Z3 + antStr_ev)\n",
      "r = te.loadAntimonyModel(antStr)\n",
      "model = r.simulate(0, 60, 500)\n",
      "te.plotWithLegend(r, numpy.vstack ((model)))"
     ],
     "language": "python",
     "metadata": {},
     "outputs": []
    },
    {
     "cell_type": "heading",
     "level": 2,
     "metadata": {},
     "source": [
      "Complete Code"
     ]
    },
    {
     "cell_type": "markdown",
     "metadata": {},
     "source": [
      "<a onclick=\"toggle_visibility('foo50001')\">ANSWER</a>: \n",
      "<div id='foo50001' style=\"display: none;\">\n",
      "<pre>\n",
      "\n",
      "import numpy\n",
      "import tellurium as te\n",
      "\n",
      "antStr = '''\n",
      "\n",
      "// X1 is the input signal\n",
      "\n",
      "// Must precede other assignments\n",
      "dna1: --P0--G0--P1--G1--P2--G2--P3--G3--P4--G4--P5--G5--\n",
      "\n",
      "\n",
      "// Z1 = FFL-I1(X1). P0/G0, P1/G1.\n",
      "//   Y1\n",
      "P0 = Vmax0*X1^6/(1 + a1*X1^6);\n",
      "G0: -> Y1;\n",
      "Y1 -> ; gamma_0*Y1  // Y1 degrades\n",
      "\n",
      "//  Z1 = X1 AND NOT Y1\n",
      "P1 = Vmax1*b1*X1/(1 + b1*X1 + b2*Y1 + b3*X1^1*Y1^4);\n",
      "G1: -> Z1;\n",
      "Z1 -> ; gamma_1*Z1  // Z1 degraes\n",
      "\n",
      "a1 = 10; b1 = 0.1; b2 = 0.1; b3 = 0.1;\n",
      "gamma_0 = 0.1; gamma_1 = 0.1\n",
      "Vmax0 = 5; Vmax1 = 12;\n",
      "X1 = 0; Y1 = 0; Z1 = 0;\n",
      "\n",
      "\n",
      "// X2 = X1 AND Y1. P2/G2.\n",
      "P2 = Vmax2*X1^10*Y1^10/(1 + c1*X1^10 + c2*Y1^10 + c3*X1*Y1^10);\n",
      "G2: -> X2;\n",
      "X2 -> ; gamma_2*X2\n",
      "\n",
      "c1 = 4.5; c2 = 15; c3 = 10.95;\n",
      "gamma_2 = 2\n",
      "Vmax2 = 0.00008;\n",
      "X2 = 0;\n",
      "\n",
      "\n",
      "// Z2 = FFL-I1(X2). P3/G3, P4/G4.\n",
      "//   Y2\n",
      "P3 = Vmax3*X2^4/(1 + f1*X2^4);\n",
      "G3: -> Y2;\n",
      "Y2 -> ; gamma_3*Y2\n",
      "\n",
      "//  Z2 = X2 AND NOT Y2\n",
      "P4 = Vmax4*d1*X2^4/(1 + d1*X2^4 + d2*Y2^4 + d3*X2^4*Y2^4);\n",
      "G4: -> Z2;\n",
      "Z2 -> ; gamma_4*Z2\n",
      "\n",
      "f1 = 5; d1 = 1; d2 = 0.1; d3 = 5;\n",
      "gamma_3 = 0.75; gamma_4 = 0.6;\n",
      "Vmax3 = 22; Vmax4 = 140;\n",
      "Y2 = 0; Z2 = 0;\n",
      "\n",
      "\n",
      "// Z3 = X2 AND Y2\n",
      "P5 = Vmax5*X2^10*Y2^10/(1 + g1*X2^10 + g2*Y2^10 + g3*X2*Y2^10);\n",
      "G5: -> Z3;\n",
      "Z3 -> ; gamma_5*Z3\n",
      "\n",
      "g1 = 20; g2 = 25; g3 = 10.95;\n",
      "gamma_5 = 2;\n",
      "Vmax5 = 0.00006;\n",
      "Z3 = 0;\n",
      "\n",
      "at (time > 5): X1 = 5;\n",
      "'''\n",
      "\n",
      "\n",
      "r = te.loadAntimonyModel (antStr)\n",
      "model = r.simulate(0, 60, 500)\n",
      "te.plotWithLegend (r, numpy.vstack ((model)))\n",
      "\n",
      "</pre>\n",
      "</div>"
     ]
    }
   ],
   "metadata": {}
  }
 ]
}