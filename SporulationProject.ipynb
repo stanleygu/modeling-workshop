{
 "metadata": {
  "name": "",
  "signature": "sha256:4895d7ed3ffd9514c65e84ae35c998804a1a1475a695be4bbb7455ec7bb0edb5"
 },
 "nbformat": 3,
 "nbformat_minor": 0,
 "worksheets": [
  {
   "cells": [
    {
     "cell_type": "markdown",
     "metadata": {},
     "source": [
      "#CLASS PROJECT"
     ]
    },
    {
     "cell_type": "heading",
     "level": 2,
     "metadata": {},
     "source": [
      "Setup"
     ]
    },
    {
     "cell_type": "markdown",
     "metadata": {},
     "source": [
      "Execute the following cell to get this notebook into a two column format."
     ]
    },
    {
     "cell_type": "code",
     "collapsed": false,
     "input": [
      "%%html\n",
      "<style>\n",
      "div.cell{\n",
      "         box-orient:horizontal;\n",
      "         flex-direction:row;\n",
      "}\n",
      "\n",
      "div.cell *{\n",
      "         width:100%;\n",
      "}\n",
      "\n",
      "div.prompt{\n",
      "          width:80px;\n",
      "\n",
      "}\n",
      "</style>\n"
     ],
     "language": "python",
     "metadata": {},
     "outputs": [
      {
       "html": [
        "<style>\n",
        "div.cell{\n",
        "         box-orient:horizontal;\n",
        "         flex-direction:row;\n",
        "}\n",
        "\n",
        "div.cell *{\n",
        "         width:100%;\n",
        "}\n",
        "\n",
        "div.prompt{\n",
        "          width:80px;\n",
        "\n",
        "}\n",
        "</style>"
       ],
       "metadata": {},
       "output_type": "display_data",
       "text": [
        "<IPython.core.display.HTML at 0x7fcd280e6750>"
       ]
      }
     ],
     "prompt_number": 1
    },
    {
     "cell_type": "markdown",
     "metadata": {},
     "source": [
      "And the following code let's us see plots in the notebook."
     ]
    },
    {
     "cell_type": "code",
     "collapsed": false,
     "input": [
      "%matplotlib inline"
     ],
     "language": "python",
     "metadata": {},
     "outputs": [],
     "prompt_number": 2
    },
    {
     "cell_type": "markdown",
     "metadata": {},
     "source": [
      "Restarting the iPython kernel to reset your environment:\n",
      "\n",
      "1. Kernel>restart>restart\n",
      "2. Cell>Run All"
     ]
    },
    {
     "cell_type": "heading",
     "level": 1,
     "metadata": {},
     "source": [
      "Problem Description"
     ]
    },
    {
     "cell_type": "markdown",
     "metadata": {},
     "source": [
      "*Reference*:\n",
      "Alon, Uri, Network motifs: theory and experimental approaches.\n",
      "Nature Reviews Genetics,\n",
      "jun,\n",
      "vol 8, no 6, 2007,\n",
      "pp. 450--61."
     ]
    },
    {
     "cell_type": "markdown",
     "metadata": {},
     "source": [
      "This project models a gene network in B. subtilis related to sporulation. Sporulation is a developmental process that occurs in response to a starvation signal. The process is:\n",
      "1. The starvation signal activates Spo0A, designated as X1 in the following.\n",
      "2. X1 is input to an I1-FFL that expresses Y1 to do a pulse expression of gene Z1.\n",
      "3. A C1-FFL does AND logic between X1 and Y1. The output is X2. This ensures that X1 is persistent before X2 is expressed.\n",
      "4. X2 is input to a second I1-FFL that expresses Y2 and generates a pulse Z2, with a delay relative to Z1.\n",
      "5. X2 and Y2 are input to AND logic of a C1-FFL that generates the pulse Z3."
     ]
    },
    {
     "cell_type": "markdown",
     "metadata": {},
     "source": [
      "__QUESTION__: What is the gene network diagram for this model?"
     ]
    },
    {
     "cell_type": "heading",
     "level": 1,
     "metadata": {},
     "source": [
      "The Diagram"
     ]
    },
    {
     "cell_type": "markdown",
     "metadata": {},
     "source": [
      "<img src=\"file:///mnt/hgfs/Download/Images/SporulationNetwork.png\">\n",
      "\n"
     ]
    },
    {
     "cell_type": "markdown",
     "metadata": {},
     "source": [
      "<img src=\"file:///mnt/hgfs/Download/Images/SporulationNetwork.png\">\n"
     ]
    },
    {
     "cell_type": "markdown",
     "metadata": {},
     "source": [
      "<img src=\"http://i.imgur.com/bXt0F5h.png\"  style=\"height: 400px; width: auto;\"/>\n",
      "\n"
     ]
    },
    {
     "cell_type": "heading",
     "level": 1,
     "metadata": {},
     "source": [
      "Building the model"
     ]
    },
    {
     "cell_type": "heading",
     "level": 2,
     "metadata": {},
     "source": [
      "Y1 and Z1\n"
     ]
    },
    {
     "cell_type": "markdown",
     "metadata": {},
     "source": [
      "We'll start by modeling Z1. This is produced by a I1-FFL that inputs X1 (which is activated by the starvation signal). This I1-FFL produces Y1 and expresses Z1. So, we need two genes. G0 expresses Y1, and G1 expresses Z1. For each gene, there is an upstream promoter.\n"
     ]
    },
    {
     "cell_type": "markdown",
     "metadata": {},
     "source": [
      "__QUESTION__: What is the antimony code to express this DNA strand?"
     ]
    },
    {
     "cell_type": "markdown",
     "metadata": {},
     "source": [
      "    dna1: --P0--G0--P1--G1--"
     ]
    },
    {
     "cell_type": "markdown",
     "metadata": {},
     "source": [
      "We will model the expression of Y1 by having X1 bind to P0. \n",
      "\n",
      "__PROBLEM__: We denote the maximum velocity of this reaction by Vmax0. Write the antimony code that describes the relevant reactions. Don't forget to include the degradation of Y1, and use gamma_0 as the reaction rate for the degradation.\n"
     ]
    },
    {
     "cell_type": "markdown",
     "metadata": {},
     "source": [
      "    // X1 is the input signal\n",
      "\n",
      "    // Must precede other assignments\n",
      "    dna1: --P0--G0--P1--G1--\n",
      "\n",
      "    // Z1 = FFL-I1(X1). P0/G0, P1/G1.\n",
      "    //   Y1\n",
      "    P0 = Vmax0*X1^6/(1 + a1*X1^6);\n",
      "    G0: -> Y1;\n",
      "    Y1 -> ; gamma_0*Y1  // Y1 degrades\n"
     ]
    },
    {
     "cell_type": "markdown",
     "metadata": {},
     "source": [
      "__PROBLEM__: Create a python program that simulates Y1. Initially, X1 is not present. At 5s, X1 is 5M (because of the response to the starvation signal). Then, run the program in the cell.\n"
     ]
    },
    {
     "cell_type": "code",
     "collapsed": false,
     "input": [
      "import numpy\n",
      "import tellurium as te\n",
      "\n",
      "antStr = '''\n",
      "// X1 is the input signal\n",
      "\n",
      "// Precedes other statements\n",
      "dna1: --P0--G0--\n",
      "\n",
      "\n",
      "//   Y1\n",
      "P0 = Vmax0*X1/(1 + X1);\n",
      "G0: -> Y1;\n",
      "Y1 -> ; gamma_0*Y1  // Y1 degrades\n",
      "\n",
      "gamma_0 = 0.1;\n",
      "Vmax0 = 5;\n",
      "X1 = 0; Y1 = 0;\n",
      "\n",
      "at (time >5): X1 = 5\n",
      "'''\n",
      "\n",
      "r = te.loadAntimonyModel(antStr)\n",
      "model = r.simulate(0, 60, 500)\n",
      "te.plotWithLegend(r, numpy.vstack ((model)))"
     ],
     "language": "python",
     "metadata": {},
     "outputs": [
      {
       "metadata": {},
       "output_type": "display_data",
       "png": "[encoded data removed]",
       "text": [
        "<matplotlib.figure.Figure at 0x7fcd0d0556d0>"
       ]
      },
      {
       "metadata": {},
       "output_type": "pyout",
       "prompt_number": 3,
       "text": [
        "<module 'matplotlib.pyplot' from '/usr/lib/pymodules/python2.7/matplotlib/pyplot.pyc'>"
       ]
      }
     ],
     "prompt_number": 3
    },
    {
     "cell_type": "markdown",
     "metadata": {},
     "source": [
      "Note that the antimony event\n",
      "    at (time >5): X1 = 5\n",
      "provides a way to change the concentration of X1."
     ]
    },
    {
     "cell_type": "markdown",
     "metadata": {},
     "source": [
      "__QUESTION__: What can you do to the model to make the response time faster? Change the model for P0 to do this."
     ]
    },
    {
     "cell_type": "markdown",
     "metadata": {},
     "source": [
      "__ANSWER__: We make the response time faster by raising the input signal to a power. For example: \n",
      "    P0 = Vmax0*X1^6/(1 + X1^6);\n",
      "Update the model in the cell below and run it."
     ]
    },
    {
     "cell_type": "code",
     "collapsed": false,
     "input": [
      "import numpy\n",
      "import tellurium as te\n",
      "\n",
      "antStr = '''\n",
      "// X1 is the input signal\n",
      "\n",
      "// Precedes other statements\n",
      "dna1: --P0--G0--P0p--G0p--\n",
      "\n",
      "\n",
      "// Y1\n",
      "P0 = Vmax0*X1/(1 + X1);\n",
      "G0: -> Y1;\n",
      "D0: Y1 -> ; gamma_0*Y1  // Y1 degrades\n",
      "\n",
      "gamma_0 = 0.1;\n",
      "Vmax0 = 5;\n",
      "X1 = 0; Y1 = 0;\n",
      "\n",
      "\n",
      "// Y1p\n",
      "P0p = Vmax0*X1^6/(1 + X1^6);\n",
      "G0p: -> Y1p;\n",
      "Y1p -> ; gamma_0*Y1p  // Y1p degrades\n",
      "\n",
      "gamma_0 = 0.1;\n",
      "Vmax0 = 5;\n",
      "\n",
      "at (time >5): X1 = 5\n",
      "'''\n",
      "\n",
      "r = te.loadAntimonyModel(antStr)\n",
      "model = r.simulate(0, 60, 500)\n",
      "te.plotWithLegend(r, numpy.vstack ((model)))"
     ],
     "language": "python",
     "metadata": {},
     "outputs": [
      {
       "metadata": {},
       "output_type": "display_data",
       "png": "[encoded data removed]",
       "text": [
        "<matplotlib.figure.Figure at 0x7fcd0cf34dd0>"
       ]
      },
      {
       "metadata": {},
       "output_type": "pyout",
       "prompt_number": 4,
       "text": [
        "<module 'matplotlib.pyplot' from '/usr/lib/pymodules/python2.7/matplotlib/pyplot.pyc'>"
       ]
      }
     ],
     "prompt_number": 4
    },
    {
     "cell_type": "markdown",
     "metadata": {},
     "source": [
      "See how Y1p rises much faster than Y1. We'll now use Y1p instead of Y1."
     ]
    },
    {
     "cell_type": "markdown",
     "metadata": {},
     "source": [
      "Sometimes, we want to scale and shape the curve a bit to get the right gene program. One way to do this is to add a constant in the denominator of the kinetics equation. For \n",
      "     P0\n",
      "we use,\n",
      "    a1 = 10.\n",
      "    \n",
      "\n",
      "\n",
      "\n",
      "\n"
     ]
    },
    {
     "cell_type": "code",
     "collapsed": false,
     "input": [
      "import numpy\n",
      "import tellurium as te\n",
      "\n",
      "antStr = '''\n",
      "// X1 is the input signal\n",
      "\n",
      "// Precedes other statements\n",
      "dna1: --P0--G0--P0p--G0p--\n",
      "\n",
      "\n",
      "//   Y1\n",
      "P0 = Vmax0*X1^6/(1 + X1^6);\n",
      "G0: -> Y1;\n",
      "Y1 -> ; gamma_0*Y1  // Y1 degrades\n",
      "\n",
      "//   Y1p with a scale factor\n",
      "P0p = Vmax0*X1^6/(1 + a1*X1^6);\n",
      "G0p: -> Y1p;\n",
      "Y1p -> ; gamma_0*Y1p  // Y1 degrades\n",
      "\n",
      "a1 = 10;\n",
      "gamma_0 = 0.1;\n",
      "Vmax0 = 5;\n",
      "X1 = 0; Y1 = 0;\n",
      "\n",
      "at (time >5): X1 = 5\n",
      "'''\n",
      "\n",
      "r = te.loadAntimonyModel(antStr)\n",
      "model = r.simulate(0, 60, 500)\n",
      "te.plotWithLegend(r, numpy.vstack ((model)))"
     ],
     "language": "python",
     "metadata": {},
     "outputs": [
      {
       "metadata": {},
       "output_type": "display_data",
       "png": "[encoded data removed]",
       "text": [
        "<matplotlib.figure.Figure at 0x7fcd0cee8310>"
       ]
      },
      {
       "metadata": {},
       "output_type": "pyout",
       "prompt_number": 5,
       "text": [
        "<module 'matplotlib.pyplot' from '/usr/lib/pymodules/python2.7/matplotlib/pyplot.pyc'>"
       ]
      }
     ],
     "prompt_number": 5
    },
    {
     "cell_type": "markdown",
     "metadata": {},
     "source": [
      "Next we compute \n",
      "    Z1,\n",
      "the output signal of the I1-FFL. This requires a second gene and reaction kinetics that result in Z1 = X1 AND NOT Y1. \n",
      "\n",
      "__PROBLEM__: Write additional antimony code that implements this logic."
     ]
    },
    {
     "cell_type": "code",
     "collapsed": false,
     "input": [
      "import numpy\n",
      "import tellurium as te\n",
      "\n",
      "antStr = '''\n",
      "\n",
      "// X1 is the input signal\n",
      "\n",
      "// Must precede other assignments\n",
      "dna1: --P0--G0--P1--G1--\n",
      "\n",
      "\n",
      "// Z1 = FFL-I1(X1). P0/G0, P1/G1.\n",
      "//   Y1\n",
      "P0 = Vmax0*X1^6/(1 + a1*X1^6);\n",
      "G0: -> Y1;\n",
      "Y1 -> ; gamma_0*Y1  // Y1 degrades\n",
      "\n",
      "//  Z1 = X1 AND NOT Y1\n",
      "P1 = Vmax1*b1*X1/(1 + b1*X1 + b2*Y1 + b3*X1*Y1^4);\n",
      "G1: -> Z1;\n",
      "Z1 -> ; gamma_1*Z1  // Z1 degraes\n",
      "\n",
      "a1 = 10; b1 = 0.1; b2 = 0.1; b3 = 0.1;\n",
      "gamma_0 = 0.1; gamma_1 = 0.1\n",
      "Vmax0 = 5; Vmax1 = 12;\n",
      "X1 = 0; Y1 = 0; Z1 = 0;\n",
      "\n",
      "at (time >5): X1 = 5\n",
      "'''\n",
      "\n",
      "r = te.loadAntimonyModel(antStr)\n",
      "model = r.simulate(0, 60, 500)\n",
      "te.plotWithLegend(r, numpy.vstack ((model)))"
     ],
     "language": "python",
     "metadata": {},
     "outputs": [
      {
       "metadata": {},
       "output_type": "display_data",
       "png": "[encoded data removed]",
       "text": [
        "<matplotlib.figure.Figure at 0x7fcd0cf4c990>"
       ]
      },
      {
       "metadata": {},
       "output_type": "pyout",
       "prompt_number": 6,
       "text": [
        "<module 'matplotlib.pyplot' from '/usr/lib/pymodules/python2.7/matplotlib/pyplot.pyc'>"
       ]
      }
     ],
     "prompt_number": 6
    },
    {
     "cell_type": "markdown",
     "metadata": {},
     "source": [
      " __ANSWER__: The kinetics equation for P1 implements the logic X1 and NOT Y1.\n",
      " The inputs to the AND are terms in the polynomial in the denominator of the\n",
      " kinetics equation. Terms without a NOT appear in the numerator.\n",
      " Exponents and multiplication constants are used to scale and shape the signal."
     ]
    },
    {
     "cell_type": "markdown",
     "metadata": {},
     "source": [
      "The code is getting longer, and soon it may be difficult to focus on the new code that we add.\n",
      "\n",
      "We need to structure the code so that we can identify the source of problems (e.g., bugs in models) and identify where changes are required if new features are to be implemented.\n",
      "\n",
      "Since the antimony code is a python string, we can structure the code into separate python strings. Below is such a restructuring of the code we wrote to model Y1 and Z1."
     ]
    },
    {
     "cell_type": "code",
     "collapsed": false,
     "input": [
      "antStr_Y1 = '''\n",
      "\n",
      "// X1 is the input signal\n",
      "\n",
      "// Must precede other assignments\n",
      "dna1: --P0--G0--P1--G1--\n",
      "\n",
      "\n",
      "// Z1 = FFL-I1(X1). P0/G0, P1/G1.\n",
      "//   Y1\n",
      "P0 = Vmax0*X1^6/(1 + a1*X1^6);\n",
      "G0: -> Y1;\n",
      "Y1 -> ; gamma_0*Y1  // Y1 degrades\n",
      "\n",
      "a1 = 10;\n",
      "Vmax0 = 5;\n",
      "X1 = 0; Y1 = 0;\n",
      "'''\n",
      "\n",
      "\n",
      "antStr_Z1 = '''\n",
      "\n",
      "//  Z1 = X1 AND NOT Y1\n",
      "P1 = Vmax1*b1*X1/(1 + b1*X1 + b2*Y1 + b3*X1*Y1^4);\n",
      "G1: -> Z1;\n",
      "Z1 -> ; gamma_1*Z1  // Z1 degraes\n",
      "\n",
      "b1 = 0.1; b2 = 0.1; b3 = 0.1;\n",
      "gamma_0 = 0.1; gamma_1 = 0.1\n",
      "Vmax1 = 12;\n",
      "Z1 = 0;\n",
      "\n",
      "at (time >5): X1 = 5\n",
      "'''\n",
      "\n",
      "\n",
      "import numpy\n",
      "import tellurium as te\n",
      "antStr = antStr_Y1 + antStr_Z1\n",
      "r = te.loadAntimonyModel(antStr)\n",
      "model = r.simulate(0, 60, 500)\n",
      "te.plotWithLegend(r, numpy.vstack ((model)))"
     ],
     "language": "python",
     "metadata": {},
     "outputs": [
      {
       "metadata": {},
       "output_type": "display_data",
       "png": "[encoded data removed]",
       "text": [
        "<matplotlib.figure.Figure at 0x7fcd0cf61e10>"
       ]
      },
      {
       "metadata": {},
       "output_type": "pyout",
       "prompt_number": 7,
       "text": [
        "<module 'matplotlib.pyplot' from '/usr/lib/pymodules/python2.7/matplotlib/pyplot.pyc'>"
       ]
      }
     ],
     "prompt_number": 7
    },
    {
     "cell_type": "markdown",
     "metadata": {},
     "source": [
      "The above code is structured into three parts:\n",
      "\n",
      " 1. Code the produces Y1\n",
      " 2. Code the produces Z1\n",
      " 3. Python \"wrapper\" that executes #1 and #2.\n",
      " \n",
      " We can define antimony code in one cell and then use it in a subsequent cell.However, you have to execute the cell before the string is defined (such as antStr_Y1). Below is an example. Note that we have a separate string for the DNA strand since this is something that we'll want to modify to incorporate more genes."
     ]
    },
    {
     "cell_type": "code",
     "collapsed": false,
     "input": [
      "antStr_dna = 'dna1: --P0--G0--P1--G1--'"
     ],
     "language": "python",
     "metadata": {},
     "outputs": [],
     "prompt_number": 8
    },
    {
     "cell_type": "code",
     "collapsed": false,
     "input": [
      "antStr_Y1 = '''\n",
      "\n",
      "// Y1\n",
      "P0 = Vmax0*X1^6/(1 + a1*X1^6);\n",
      "G0: -> Y1;\n",
      "Y1 -> ; gamma_0*Y1  // Y1 degrades\n",
      "\n",
      "a1 = 10;\n",
      "Vmax0 = 5;\n",
      "X1 = 0; Y1 = 0;\n",
      "'''"
     ],
     "language": "python",
     "metadata": {},
     "outputs": [],
     "prompt_number": 9
    },
    {
     "cell_type": "code",
     "collapsed": false,
     "input": [],
     "language": "python",
     "metadata": {},
     "outputs": [],
     "prompt_number": 9
    },
    {
     "cell_type": "code",
     "collapsed": false,
     "input": [
      "antStr_Z1 = '''\n",
      "\n",
      "//  Z1 = X1 AND NOT Y1\n",
      "P1 = Vmax1*b1*X1/(1 + b1*X1 + b2*Y1 + b3*X1*Y1^4);\n",
      "G1: -> Z1;\n",
      "Z1 -> ; gamma_1*Z1  // Z1 degraes\n",
      "\n",
      "b1 = 0.1; b2 = 0.1; b3 = 0.1;\n",
      "gamma_0 = 0.1; gamma_1 = 0.1\n",
      "Vmax1 = 12;\n",
      "Z1 = 0;\n",
      "\n",
      "at (time > 5): X1 = 5\n",
      "'''\n",
      "\n",
      "import numpy\n",
      "import tellurium as te\n",
      "antStr = (antStr_dna + antStr_Y1 + antStr_Z1 \n",
      "          )\n",
      "r = te.loadAntimonyModel(antStr)\n",
      "model = r.simulate(0, 60, 500)\n",
      "te.plotWithLegend(r, numpy.vstack ((model)))"
     ],
     "language": "python",
     "metadata": {},
     "outputs": [
      {
       "metadata": {},
       "output_type": "display_data",
       "png": "[encoded data removed]",
       "text": [
        "<matplotlib.figure.Figure at 0x7fcd0cf34590>"
       ]
      },
      {
       "metadata": {},
       "output_type": "pyout",
       "prompt_number": 10,
       "text": [
        "<module 'matplotlib.pyplot' from '/usr/lib/pymodules/python2.7/matplotlib/pyplot.pyc'>"
       ]
      }
     ],
     "prompt_number": 10
    },
    {
     "cell_type": "markdown",
     "metadata": {},
     "source": [
      "We'll treat antStr_Z1 in the same way as antStr_Y1. That is, we'll define and execute it in a separate cell. Then, we'll work on X2."
     ]
    },
    {
     "cell_type": "code",
     "collapsed": false,
     "input": [
      "antStr_Z1 = '''\n",
      "\n",
      "//  Z1 = X1 AND NOT Y1\n",
      "P1 = Vmax1*b1*X1/(1 + b1*X1 + b2*Y1 + b3*X1*Y1^4);\n",
      "G1: -> Z1;\n",
      "Z1 -> ; gamma_1*Z1  // Z1 degraes\n",
      "\n",
      "b1 = 0.1; b2 = 0.1; b3 = 0.1;\n",
      "gamma_0 = 0.1; gamma_1 = 0.1\n",
      "Vmax1 = 12;\n",
      "Z1 = 0;\n",
      "'''"
     ],
     "language": "python",
     "metadata": {},
     "outputs": [],
     "prompt_number": 11
    },
    {
     "cell_type": "code",
     "collapsed": false,
     "input": [
      "antStr_ev = '''\n",
      "at (time >5): X1 = 5\n",
      "'''"
     ],
     "language": "python",
     "metadata": {},
     "outputs": [],
     "prompt_number": 12
    },
    {
     "cell_type": "code",
     "collapsed": false,
     "input": [
      "antStr_X2 = '''\n",
      "'''\n",
      "import numpy\n",
      "import tellurium as te\n",
      "antStr = (antStr_dna + antStr_Y1 + antStr_Z1 \n",
      "          + antStr_X2 + antStr_ev)\n",
      "r = te.loadAntimonyModel(antStr)\n",
      "model = r.simulate(0, 60, 500)\n",
      "te.plotWithLegend(r, numpy.vstack ((model)))"
     ],
     "language": "python",
     "metadata": {},
     "outputs": [
      {
       "metadata": {},
       "output_type": "display_data",
       "png": "[encoded data removed]",
       "text": [
        "<matplotlib.figure.Figure at 0x7fcd0cee8250>"
       ]
      },
      {
       "metadata": {},
       "output_type": "pyout",
       "prompt_number": 13,
       "text": [
        "<module 'matplotlib.pyplot' from '/usr/lib/pymodules/python2.7/matplotlib/pyplot.pyc'>"
       ]
      }
     ],
     "prompt_number": 13
    },
    {
     "cell_type": "markdown",
     "metadata": {},
     "source": [
      "__QUESTION__: What code was added to the python wrapper so that executing the above cell will include antStr_X2?"
     ]
    },
    {
     "cell_type": "markdown",
     "metadata": {},
     "source": [
      "__ANSWER__: antStr concatenates antStr_X2 in addition to antStr_Y1 and antStr_Z1."
     ]
    },
    {
     "cell_type": "markdown",
     "metadata": {},
     "source": [
      "__QUESTION__: Which strings must be modified to model the expression of X2?"
     ]
    },
    {
     "cell_type": "markdown",
     "metadata": {},
     "source": [
      "__ANSWER__: To express X2, we'll need another promoter and gene, and we'll need code that describes the reactions that take place to express X2. So, we need to modify antStr_dna and antStr_X2."
     ]
    },
    {
     "cell_type": "markdown",
     "metadata": {},
     "source": [
      "__PROBLEM__: Do the modifications needed to express X2, including the addition of another gene and promoter."
     ]
    },
    {
     "cell_type": "code",
     "collapsed": false,
     "input": [
      "antStr_dna = '''\n",
      "\n",
      "dna1: --P0--G0--P1--G1--P2--G2--\n",
      "\n",
      "'''"
     ],
     "language": "python",
     "metadata": {},
     "outputs": [],
     "prompt_number": 14
    },
    {
     "cell_type": "code",
     "collapsed": false,
     "input": [
      "antStr_X2 = '''\n",
      "\n",
      "// X2 = X1 AND Y1. P2/G2.\n",
      "P2numr = Vmax2*X1^10*Y1^10;\n",
      "P2denom = 1 + c1*X1^10 + c2*Y1^10 + c3*X1*Y1^10;\n",
      "P2 = P2numr / P2denom;\n",
      "P2 = Vmax2*X1^10*Y1^10/(1 + c1*X1^10 + c2*Y1^10 + c3*X1*Y1^10);\n",
      "G2: -> X2;\n",
      "X2  -> ; gamma_2*X2\n",
      "\n",
      "c1 = 4.5; c2 = 15; c3 = 10.95;\n",
      "gamma_2 = 2\n",
      "Vmax2 = 0.00008;\n",
      "X2 = 0;\n",
      "'''"
     ],
     "language": "python",
     "metadata": {},
     "outputs": [],
     "prompt_number": 15
    },
    {
     "cell_type": "code",
     "collapsed": false,
     "input": [
      "import numpy\n",
      "import tellurium as te\n",
      "antStr = (antStr_dna + antStr_Y1 + antStr_Z1 \n",
      "          + antStr_X2 + antStr_ev)\n",
      "r = te.loadAntimonyModel(antStr)\n",
      "model = r.simulate(0, 60, 500)\n",
      "te.plotWithLegend(r, numpy.vstack ((model)))"
     ],
     "language": "python",
     "metadata": {},
     "outputs": [
      {
       "metadata": {},
       "output_type": "display_data",
       "png": "[encoded data removed]",
       "text": [
        "<matplotlib.figure.Figure at 0x7fcd0ceb3c90>"
       ]
      },
      {
       "metadata": {},
       "output_type": "pyout",
       "prompt_number": 16,
       "text": [
        "<module 'matplotlib.pyplot' from '/usr/lib/pymodules/python2.7/matplotlib/pyplot.pyc'>"
       ]
      }
     ],
     "prompt_number": 16
    },
    {
     "cell_type": "markdown",
     "metadata": {},
     "source": [
      "Z2 is expressed as a I1-FFL with X2.\n",
      "\n",
      "__QUESTION__: How many genes must be added to express Z2? "
     ]
    },
    {
     "cell_type": "markdown",
     "metadata": {},
     "source": [
      "__ANSWER__: Two genes are required. One expresses Y2 and the second expresses Z2 = X2 AND NOT Y2."
     ]
    },
    {
     "cell_type": "markdown",
     "metadata": {},
     "source": [
      "__QUESTION__: Write the kinetics equation for the promoter for the gene that expresses Z2. Use the constants Vmax4, d1, d2, d3, gamma_4. Use an exponent of 4 for X2 and Y2."
     ]
    },
    {
     "cell_type": "markdown",
     "metadata": {},
     "source": [
      "__ANSWER__:\n",
      "\n",
      "    P4 = Vmax4*d1*X2^4/(1 + d1*X2^4 + d2*Y2^4 + d3*X2^4*Y2^4);\n",
      "    \n",
      "    G4: -> Z2;\n",
      "    \n",
      "    Z2 -> ; gamma_4*Z2"
     ]
    },
    {
     "cell_type": "markdown",
     "metadata": {},
     "source": [
      "__PROBLEM__: Write the antimony code to compute Z2, extending the python wrapper as required."
     ]
    },
    {
     "cell_type": "code",
     "collapsed": false,
     "input": [
      "antStr_dna = '''\n",
      "\n",
      "dna1: --P0--G0--P1--G1--P2--G2--P3--G3--P4--G4--\n",
      "\n",
      "'''"
     ],
     "language": "python",
     "metadata": {},
     "outputs": [],
     "prompt_number": 17
    },
    {
     "cell_type": "code",
     "collapsed": false,
     "input": [
      "antStr_Z2 = '''\n",
      "\n",
      "// Y2. P3/G3.\n",
      "P3 = Vmax3*X2^4/(1 + f1*X2^4);\n",
      "G3: -> Y2;\n",
      "Y2 -> ; gamma_3*Y2\n",
      "\n",
      "f1 = 5;\n",
      "gamma_3 = 0.75; \n",
      "Vmax3 = 22; \n",
      "Y2 = 0; \n",
      "\n",
      "\n",
      "// Z2 = X2 AND NOT Y2. P4/G4.\n",
      "P4 = Vmax4*d1*X2^4/(1 + d1*X2^4 + d2*Y2^4 + d3*X2^4*Y2^4);\n",
      "P4 = Vmax4*d1*X2^4/(1 + d1*X2^4 + d2*Y2^4 + d3*X2^4*Y2^4);\n",
      "G4: -> Z2;\n",
      "Z2 -> ; gamma_4*Z2\n",
      "\n",
      "d1 = 1; d2 = 0.1; d3 = 5;\n",
      "gamma_4 = 0.6;\n",
      "Vmax4 = 140;\n",
      "Z2 = 0;\n",
      "'''"
     ],
     "language": "python",
     "metadata": {},
     "outputs": [],
     "prompt_number": 18
    },
    {
     "cell_type": "code",
     "collapsed": false,
     "input": [
      "import numpy\n",
      "import tellurium as te\n",
      "antStr = (antStr_dna + antStr_Y1 + antStr_Z1 \n",
      "          + antStr_X2 + antStr_Z2 + antStr_ev)\n",
      "r = te.loadAntimonyModel(antStr)\n",
      "model = r.simulate(0, 60, 500)\n",
      "te.plotWithLegend(r, numpy.vstack ((model)))"
     ],
     "language": "python",
     "metadata": {},
     "outputs": [
      {
       "metadata": {},
       "output_type": "display_data",
       "png": "[encoded data removed]",
       "text": [
        "<matplotlib.figure.Figure at 0x7fcd0ce5dc90>"
       ]
      },
      {
       "metadata": {},
       "output_type": "pyout",
       "prompt_number": 19,
       "text": [
        "<module 'matplotlib.pyplot' from '/usr/lib/pymodules/python2.7/matplotlib/pyplot.pyc'>"
       ]
      }
     ],
     "prompt_number": 19
    },
    {
     "cell_type": "markdown",
     "metadata": {},
     "source": [
      "__PROBLEM__: Implement the model extensions needed to express Z3."
     ]
    },
    {
     "cell_type": "code",
     "collapsed": false,
     "input": [
      "antStr_dna = '''\n",
      "\n",
      "dna1: --P0--G0--P1--G1--P2--G2--P3--G3--P4--G4--P5--G5--\n",
      "\n",
      "'''"
     ],
     "language": "python",
     "metadata": {},
     "outputs": [],
     "prompt_number": 20
    },
    {
     "cell_type": "code",
     "collapsed": false,
     "input": [
      "antStr_Z3 = '''\n",
      "\n",
      "// Z3 = X2 AND Y2\n",
      "P5 = Vmax5*X2^10*Y2^10/(1 + g1*X2^10 + g2*Y2^10 + g3*X2*Y2^10);\n",
      "G5: -> Z3;\n",
      "Z3 -> ; gamma_5*Z3\n",
      "\n",
      "g1 = 20; g2 = 25; g3 = 10.95;\n",
      "gamma_5 = 2;\n",
      "Vmax5 = 0.00006;\n",
      "Z3 = 0;\n",
      "\n",
      "'''"
     ],
     "language": "python",
     "metadata": {},
     "outputs": [],
     "prompt_number": 21
    },
    {
     "cell_type": "code",
     "collapsed": false,
     "input": [
      "import numpy\n",
      "import tellurium as te\n",
      "antStr = (antStr_dna + antStr_Y1 + antStr_Z1 \n",
      "          + antStr_X2 + antStr_Z2 + antStr_Z3 + antStr_ev)\n",
      "r = te.loadAntimonyModel(antStr)\n",
      "model = r.simulate(0, 60, 500)\n",
      "te.plotWithLegend(r, numpy.vstack ((model)))"
     ],
     "language": "python",
     "metadata": {},
     "outputs": [
      {
       "metadata": {},
       "output_type": "display_data",
       "png": "[encoded data removed]",
       "text": [
        "<matplotlib.figure.Figure at 0x7fcd280e6e10>"
       ]
      },
      {
       "metadata": {},
       "output_type": "pyout",
       "prompt_number": 22,
       "text": [
        "<module 'matplotlib.pyplot' from '/usr/lib/pymodules/python2.7/matplotlib/pyplot.pyc'>"
       ]
      }
     ],
     "prompt_number": 22
    },
    {
     "cell_type": "heading",
     "level": 2,
     "metadata": {},
     "source": [
      "Complete Code"
     ]
    },
    {
     "cell_type": "code",
     "collapsed": false,
     "input": [
      "import numpy\n",
      "import tellurium as te\n",
      "\n",
      "antStr = '''\n",
      "\n",
      "// X1 is the input signal\n",
      "\n",
      "// Must precede other assignments\n",
      "dna1: --P0--G0--P1--G1--P2--G2--P3--G3--P4--G4--P5--G5--\n",
      "\n",
      "\n",
      "// Z1 = FFL-I1(X1). P0/G0, P1/G1.\n",
      "//   Y1\n",
      "P0 = Vmax0*X1^6/(1 + a1*X1^6);\n",
      "G0: -> Y1;\n",
      "Y1 -> ; gamma_0*Y1  // Y1 degrades\n",
      "\n",
      "//  Z1 = X1 AND NOT Y1\n",
      "P1 = Vmax1*b1*X1/(1 + b1*X1 + b2*Y1 + b3*X1^1*Y1^4);\n",
      "G1: -> Z1;\n",
      "Z1 -> ; gamma_1*Z1  // Z1 degraes\n",
      "\n",
      "a1 = 10; b1 = 0.1; b2 = 0.1; b3 = 0.1;\n",
      "gamma_0 = 0.1; gamma_1 = 0.1\n",
      "Vmax0 = 5; Vmax1 = 12;\n",
      "X1 = 0; Y1 = 0; Z1 = 0;\n",
      "\n",
      "\n",
      "// X2 = X1 AND Y1. P2/G2.\n",
      "P2 = Vmax2*X1^10*Y1^10/(1 + c1*X1^10 + c2*Y1^10 + c3*X1*Y1^10);\n",
      "G2: -> X2;\n",
      "X2 -> ; gamma_2*X2\n",
      "\n",
      "c1 = 4.5; c2 = 15; c3 = 10.95;\n",
      "gamma_2 = 2\n",
      "Vmax2 = 0.00008;\n",
      "X2 = 0;\n",
      "\n",
      "\n",
      "// Z2 = FFL-I1(X2). P3/G3, P4/G4.\n",
      "//   Y2\n",
      "P3 = Vmax3*X2^4/(1 + f1*X2^4);\n",
      "G3: -> Y2;\n",
      "Y2 -> ; gamma_3*Y2\n",
      "\n",
      "//  Z2 = X2 AND NOT Y2\n",
      "P4 = Vmax4*d1*X2^4/(1 + d1*X2^4 + d2*Y2^4 + d3*X2^4*Y2^4);\n",
      "G4: -> Z2;\n",
      "Z2 -> ; gamma_4*Z2\n",
      "\n",
      "f1 = 5; d1 = 1; d2 = 0.1; d3 = 5;\n",
      "gamma_3 = 0.75; gamma_4 = 0.6;\n",
      "Vmax3 = 22; Vmax4 = 140;\n",
      "Y2 = 0; Z2 = 0;\n",
      "\n",
      "\n",
      "// Z3 = X2 AND Y2\n",
      "P5 = Vmax5*X2^10*Y2^10/(1 + g1*X2^10 + g2*Y2^10 + g3*X2*Y2^10);\n",
      "G5: -> Z3;\n",
      "Z3 -> ; gamma_5*Z3\n",
      "\n",
      "g1 = 20; g2 = 25; g3 = 10.95;\n",
      "gamma_5 = 2;\n",
      "Vmax5 = 0.00006;\n",
      "Z3 = 0;\n",
      "\n",
      "at (time > 5): X1 = 5;\n",
      "'''\n",
      "\n",
      "\n",
      "r = te.loadAntimonyModel (antStr)\n",
      "model = r.simulate(0, 60, 500)\n",
      "te.plotWithLegend (r, numpy.vstack ((model)))"
     ],
     "language": "python",
     "metadata": {},
     "outputs": [
      {
       "metadata": {},
       "output_type": "display_data",
       "png": "[encoded data removed]",
       "text": [
        "<matplotlib.figure.Figure at 0x7fcd0cf34c90>"
       ]
      },
      {
       "metadata": {},
       "output_type": "pyout",
       "prompt_number": 23,
       "text": [
        "<module 'matplotlib.pyplot' from '/usr/lib/pymodules/python2.7/matplotlib/pyplot.pyc'>"
       ]
      }
     ],
     "prompt_number": 23
    }
   ],
   "metadata": {}
  }
 ]
}