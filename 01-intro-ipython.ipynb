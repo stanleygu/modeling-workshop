{
 "metadata": {
  "signature": "sha256:cd243346ef6394b3c1578bd94f072e0d366c23c2d0756a9b5661469501b05bd1"
 },
 "nbformat": 3,
 "nbformat_minor": 0,
 "worksheets": [
  {
   "cells": [
    {
     "cell_type": "markdown",
     "metadata": {},
     "source": [
      "# Introduction to Python and IPython Notebook\n",
      "\n",
      "The IPython Notebook is a web-based interactive computing system that enables users to author documents that include live code, narrative text, LaTeX equations, HTML, images and video. These documents are contain a full record of a computation and its results and can be shared on email, [Dropbox](dropbox.com), version control systems (like [git](http://git-scm.com/)), or [nbviewer.ipython.org](nbviewer.ipython.org).\n",
      "\n",
      "\n",
      "# "
     ]
    },
    {
     "cell_type": "markdown",
     "metadata": {},
     "source": [
      "### Code cells allow you to enter and run Python code\n",
      "\n",
      "Run a code cell `shift-enter` or pressing the <button><i class=\"icon-play\"></i></button> above. \n",
      "\n",
      "`control-enter` executes the cell and keeps the current cell selected.\n",
      "\n",
      "Create new code cells through double-clicking below the bottom-most cell, or through <button><i class=\"icon-plus\"></i></button> in the menu."
     ]
    },
    {
     "cell_type": "markdown",
     "metadata": {},
     "source": [
      "### Printing"
     ]
    },
    {
     "cell_type": "code",
     "collapsed": false,
     "input": [
      "# Comments begin with \"#\"\n",
      "print 'Hello world!'"
     ],
     "language": "python",
     "metadata": {},
     "outputs": [
      {
       "output_type": "stream",
       "stream": "stdout",
       "text": [
        "Hello world!\n"
       ]
      }
     ],
     "prompt_number": 1
    },
    {
     "cell_type": "markdown",
     "metadata": {},
     "source": [
      "### Variable Assignment"
     ]
    },
    {
     "cell_type": "code",
     "collapsed": false,
     "input": [
      "a = 10\n",
      "b = 5\n",
      "c = a**2 + b**2"
     ],
     "language": "python",
     "metadata": {},
     "outputs": [],
     "prompt_number": 2
    },
    {
     "cell_type": "code",
     "collapsed": false,
     "input": [
      "# Print mixed types\n",
      "print 'a = ', a\n",
      "print 'b = ', b\n",
      "print 'a^2 + b^2 = ', c\n"
     ],
     "language": "python",
     "metadata": {},
     "outputs": [
      {
       "output_type": "stream",
       "stream": "stdout",
       "text": [
        "a =  10\n",
        "b =  5\n",
        "a^2 + b^2 =  125\n"
       ]
      }
     ],
     "prompt_number": 3
    },
    {
     "cell_type": "code",
     "collapsed": false,
     "input": [
      "# Multiline strings use three quotation marks\n",
      "\n",
      "longString = '''\n",
      "This is my really \n",
      "really\n",
      "really\n",
      "long string\n",
      "'''\n",
      "\n",
      "print longString"
     ],
     "language": "python",
     "metadata": {},
     "outputs": [
      {
       "output_type": "stream",
       "stream": "stdout",
       "text": [
        "\n",
        "This is my really \n",
        "really\n",
        "really\n",
        "long string\n",
        "\n"
       ]
      }
     ],
     "prompt_number": 4
    },
    {
     "cell_type": "markdown",
     "metadata": {},
     "source": [
      "### Loops\n",
      "In Python, loops can be programmed in a number of different ways. The most common is the for loop, which is used together with iterable objects, such as lists. The basic syntax is:"
     ]
    },
    {
     "cell_type": "code",
     "collapsed": false,
     "input": [
      "for x in [1,2,3]:\n",
      "    print x"
     ],
     "language": "python",
     "metadata": {},
     "outputs": [
      {
       "output_type": "stream",
       "stream": "stdout",
       "text": [
        "1\n",
        "2\n",
        "3\n"
       ]
      }
     ],
     "prompt_number": 5
    },
    {
     "cell_type": "markdown",
     "metadata": {},
     "source": [
      "### Modules\n",
      "Importing additional functionality from Python modules is done using the `import` statement. The available Python modules depend on the underlying system that is running the kernel."
     ]
    },
    {
     "cell_type": "code",
     "collapsed": false,
     "input": [
      "import math\n",
      "\n",
      "x = math.cos(2 * math.pi)\n",
      "\n",
      "print(x)"
     ],
     "language": "python",
     "metadata": {},
     "outputs": [
      {
       "output_type": "stream",
       "stream": "stdout",
       "text": [
        "1.0\n"
       ]
      }
     ],
     "prompt_number": 7
    },
    {
     "cell_type": "markdown",
     "metadata": {},
     "source": [
      "## Side-by-side IPython Notebook Output\n",
      "\n",
      "For side-by-side output, add this to a new cell (*Note: Deleting this cell will restore the default layout*):"
     ]
    },
    {
     "cell_type": "code",
     "collapsed": false,
     "input": [
      "%%html\n",
      "<style>div.cell{box-orient:horizontal;flex-direction:row;}div.cell *{width:100%;}div.prompt{width:80px;}</style>\n"
     ],
     "language": "python",
     "metadata": {},
     "outputs": []
    },
    {
     "cell_type": "markdown",
     "metadata": {},
     "source": [
      "# Additional Resources\n",
      "\n",
      "* [IPython](http://ipython.org/ipython-doc/stable/index.html)\n",
      "* [IPython notebook-based documentation](http://nbviewer.ipython.org/github/ipython/ipython/blob/master/examples/Index.ipynb) \n",
      "* [The Python Language Reference](http://docs.python.org/2/reference/index.html)\n",
      "* [The Python Standard Library](http://docs.python.org/2/library/)"
     ]
    }
   ],
   "metadata": {}
  }
 ]
}