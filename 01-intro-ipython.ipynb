{
 "metadata": {
  "celltoolbar": "Slideshow",
  "signature": "sha256:7967b94c16c76151aecbcb92dafdfdc04a3b2e0ce0e16468cecf5583be60ae93"
 },
 "nbformat": 3,
 "nbformat_minor": 0,
 "worksheets": [
  {
   "cells": [
    {
     "cell_type": "markdown",
     "metadata": {
      "slideshow": {
       "slide_type": "slide"
      }
     },
     "source": [
      "# Introduction to Python and IPython Notebook"
     ]
    },
    {
     "cell_type": "markdown",
     "metadata": {
      "slideshow": {
       "slide_type": "fragment"
      }
     },
     "source": [
      "* Python"
     ]
    },
    {
     "cell_type": "markdown",
     "metadata": {
      "slideshow": {
       "slide_type": "fragment"
      }
     },
     "source": [
      "A general-purpose programming language with many active and useful scientific computing libraries.\n",
      "\n",
      "Similar to MATLAB, but without the licensing fees and also widely used outside the domain scientific computing.\n"
     ]
    },
    {
     "cell_type": "markdown",
     "metadata": {
      "slideshow": {
       "slide_type": "fragment"
      }
     },
     "source": [
      "* IPython Notebook"
     ]
    },
    {
     "cell_type": "markdown",
     "metadata": {
      "slideshow": {
       "slide_type": "fragment"
      }
     },
     "source": [
      "web-based interactive computing system\n",
      "\n",
      "enables users to author documents that include live code, narrative text, LaTeX equations, HTML, images and video\n",
      "\n",
      "contain a full record of a computation and its results and can be shared via email, [Dropbox](dropbox.com), version control systems (like [git](http://git-scm.com/)), or [nbviewer.ipython.org](nbviewer.ipython.org)\n",
      "\n",
      "It can be even be used to create a slide show like this one!"
     ]
    },
    {
     "cell_type": "markdown",
     "metadata": {
      "slideshow": {
       "slide_type": "slide"
      }
     },
     "source": [
      "# Typical Workflow Comparison\n",
      "<table>\n",
      "    <thead>\n",
      "        <tr>\n",
      "            <th>Python/MATLAB Scripts</th>\n",
      "            <th>IPython Notebook</th>\n",
      "        </tr>\n",
      "    </thead>\n",
      "    <tbody>\n",
      "        <tr>\n",
      "            <td>1. Create new directory for experiment</td>\n",
      "            <td>1. Create new notebook for experiment</td>\n",
      "        </tr>\n",
      "        <tr>\n",
      "            <td>2. Create script for particular analysis</td>\n",
      "            <td>2. Create cell for particular analysis</td>\n",
      "        </tr>\n",
      "        <tr>\n",
      "            <td>3. Execute script, save textual output as text files and/or graphical figures. Maybe use a naming scheme to specify which output files belong to a particular analysis.</td>\n",
      "            <td>3. Execute cell, both textual and graphical output are displayed next to cell.</td>\n",
      "        </tr>\n",
      "        <tr>\n",
      "            <td>4. Inspect output, maybe show colleagues, take notes in separate text file. Consider new changes.</td>\n",
      "            <td>4. Inspect output, maybe show colleagues, take notes in new cell. Consider new changes.</td>\n",
      "        </tr>\n",
      "        <tr>\n",
      "            <td>5. Repeat from Step 2.</td>\n",
      "            <td>5. Repeat from Step 2.</td>\n",
      "        </tr>\n",
      "    </tbody>\n",
      "</table>"
     ]
    },
    {
     "cell_type": "markdown",
     "metadata": {
      "slideshow": {
       "slide_type": "fragment"
      }
     },
     "source": [
      "May appear similar but...\n",
      "\n",
      "* Notebook single file reduces overheard of needing to manage and remember the purpose of multiple files (`exp_1_alpha_8_beta_23_p_0.005.png`)\n",
      "* Notebooks easier to share (Can also be exported into difference presentation formats)"
     ]
    },
    {
     "cell_type": "markdown",
     "metadata": {
      "slideshow": {
       "slide_type": "slide"
      }
     },
     "source": [
      "# Tips"
     ]
    },
    {
     "cell_type": "markdown",
     "metadata": {
      "slideshow": {
       "slide_type": "fragment"
      }
     },
     "source": [
      "## Code cells\n",
      "\n",
      "Run a code cell `shift-enter` or pressing the <button><i class=\"icon-play\"></i></button> above. \n",
      "\n",
      "`control-enter` executes the cell and keeps the current cell selected.\n",
      "\n",
      "Create new code cells through double-clicking below the bottom-most cell, or through <button><i class=\"icon-plus\"></i></button> in the menu."
     ]
    },
    {
     "cell_type": "markdown",
     "metadata": {
      "slideshow": {
       "slide_type": "subslide"
      }
     },
     "source": [
      "## Cells not executing or other weird issues?\n",
      "\n",
      "* Restart the kernel <button><i class=\"icon-repeat\"></i></button>\n",
      "* Refresh browser window\n"
     ]
    },
    {
     "cell_type": "markdown",
     "metadata": {
      "slideshow": {
       "slide_type": "slide"
      }
     },
     "source": [
      "# Brief Review of Python Syntax"
     ]
    },
    {
     "cell_type": "markdown",
     "metadata": {
      "slideshow": {
       "slide_type": "subslide"
      }
     },
     "source": [
      "### Printing"
     ]
    },
    {
     "cell_type": "code",
     "collapsed": false,
     "input": [
      "# Comments begin with \"#\"\n",
      "print 'Hello world!'"
     ],
     "language": "python",
     "metadata": {},
     "outputs": [
      {
       "output_type": "stream",
       "stream": "stdout",
       "text": [
        "Hello world!\n"
       ]
      }
     ],
     "prompt_number": 1
    },
    {
     "cell_type": "markdown",
     "metadata": {
      "slideshow": {
       "slide_type": "subslide"
      }
     },
     "source": [
      "### Variable Assignment"
     ]
    },
    {
     "cell_type": "code",
     "collapsed": false,
     "input": [
      "a = 10\n",
      "b = 5\n",
      "c = a**2 + b**2"
     ],
     "language": "python",
     "metadata": {},
     "outputs": [],
     "prompt_number": 2
    },
    {
     "cell_type": "markdown",
     "metadata": {
      "slideshow": {
       "slide_type": "subslide"
      }
     },
     "source": [
      "### Print mixed types"
     ]
    },
    {
     "cell_type": "code",
     "collapsed": false,
     "input": [
      "print 'a = ', a\n",
      "print 'b = ', b\n",
      "print 'a^2 + b^2 = ', c\n"
     ],
     "language": "python",
     "metadata": {},
     "outputs": [
      {
       "output_type": "stream",
       "stream": "stdout",
       "text": [
        "a =  10\n",
        "b =  5\n",
        "a^2 + b^2 =  125\n"
       ]
      }
     ],
     "prompt_number": 3
    },
    {
     "cell_type": "markdown",
     "metadata": {
      "slideshow": {
       "slide_type": "subslide"
      }
     },
     "source": [
      "Multi-line Strings"
     ]
    },
    {
     "cell_type": "code",
     "collapsed": false,
     "input": [
      "# Multiline strings use three quotation marks\n",
      "\n",
      "longString = '''\n",
      "This is my really\n",
      "really\n",
      "really\n",
      "long string\n",
      "'''\n",
      "\n",
      "print longString"
     ],
     "language": "python",
     "metadata": {},
     "outputs": [
      {
       "output_type": "stream",
       "stream": "stdout",
       "text": [
        "\n",
        "This is my really\n",
        "really\n",
        "really\n",
        "long string\n",
        "\n"
       ]
      }
     ],
     "prompt_number": 4
    },
    {
     "cell_type": "markdown",
     "metadata": {
      "slideshow": {
       "slide_type": "subslide"
      }
     },
     "source": [
      "### Loops\n",
      "In Python, loops can be programmed in a number of different ways. The most common is the for loop, which is used together with iterable objects, such as lists. The basic syntax is:"
     ]
    },
    {
     "cell_type": "code",
     "collapsed": false,
     "input": [
      "for x in [1,2,3]:\n",
      "    print x"
     ],
     "language": "python",
     "metadata": {},
     "outputs": [
      {
       "output_type": "stream",
       "stream": "stdout",
       "text": [
        "1\n",
        "2\n",
        "3\n"
       ]
      }
     ],
     "prompt_number": 5
    },
    {
     "cell_type": "markdown",
     "metadata": {
      "slideshow": {
       "slide_type": "subslide"
      }
     },
     "source": [
      "### Modules\n",
      "Importing additional functionality from Python modules is done using the `import` statement. The available Python modules depend on the underlying system that is running the kernel."
     ]
    },
    {
     "cell_type": "code",
     "collapsed": false,
     "input": [
      "import math\n",
      "\n",
      "x = math.cos(2 * math.pi)\n",
      "\n",
      "print(x)"
     ],
     "language": "python",
     "metadata": {},
     "outputs": [
      {
       "output_type": "stream",
       "stream": "stdout",
       "text": [
        "1.0\n"
       ]
      }
     ],
     "prompt_number": 6
    },
    {
     "cell_type": "markdown",
     "metadata": {
      "slideshow": {
       "slide_type": "slide"
      }
     },
     "source": [
      "# Customization: Side-by-side IPython Notebook Output\n",
      "\n",
      "For side-by-side output, add this to a new cell (*Note: Deleting this cell will restore the default layout*):"
     ]
    },
    {
     "cell_type": "code",
     "collapsed": false,
     "input": [
      "%%html\n",
      "<style>div.cell{box-orient:horizontal;flex-direction:row;}div.cell *{width:100%;}div.prompt{width:80px;}</style>\n"
     ],
     "language": "python",
     "metadata": {},
     "outputs": []
    },
    {
     "cell_type": "markdown",
     "metadata": {
      "slideshow": {
       "slide_type": "slide"
      }
     },
     "source": [
      "# "
     ]
    },
    {
     "cell_type": "markdown",
     "metadata": {
      "slideshow": {
       "slide_type": "slide"
      }
     },
     "source": [
      "# Additional Resources\n",
      "\n",
      "* [IPython](http://ipython.org/ipython-doc/stable/index.html)\n",
      "* [IPython notebook-based documentation](http://nbviewer.ipython.org/github/ipython/ipython/blob/master/examples/Index.ipynb) \n",
      "* [The Python Language Reference](http://docs.python.org/2/reference/index.html)\n",
      "* [The Python Standard Library](http://docs.python.org/2/library/)"
     ]
    }
   ],
   "metadata": {}
  }
 ]
}