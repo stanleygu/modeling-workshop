{
 "metadata": {
  "signature": "sha256:83b94c182229efbdabc5fd1c208058a1a1642aa104a156d57501aeab3ae1064c"
 },
 "nbformat": 3,
 "nbformat_minor": 0,
 "worksheets": [
  {
   "cells": [
    {
     "cell_type": "markdown",
     "metadata": {},
     "source": [
      "# Introduction to Python and IPython Notebook\n",
      "\n",
      "The IPython Notebook is a web-based interactive computing system that enables users to author documents that include live code, narrative text, LaTeX equations, HTML, images and video. These documents are contain a full record of a computation and its results and can be shared on email, [Dropbox](dropbox.com), version control systems (like [git](http://git-scm.com/)), or [nbviewer.ipython.org](nbviewer.ipython.org).\n",
      "\n",
      "\n",
      "# "
     ]
    },
    {
     "cell_type": "markdown",
     "metadata": {},
     "source": [
      "### Code cells allow you to enter and run Python code\n",
      "\n",
      "Run a code cell `shift-enter` or pressing the <button><i class=\"icon-play\"></i></button> above. \n",
      "\n",
      "`control-enter` executes the cell and keeps the current cell selected.\n",
      "\n",
      "Create new code cells through double-clicking below the bottom-most cell, or through <button><i class=\"icon-plus\"></i></button> in the menu."
     ]
    },
    {
     "cell_type": "code",
     "collapsed": false,
     "input": [
      "print 'Hello world!'"
     ],
     "language": "python",
     "metadata": {},
     "outputs": []
    },
    {
     "cell_type": "code",
     "collapsed": false,
     "input": [
      "a = 10"
     ],
     "language": "python",
     "metadata": {},
     "outputs": []
    },
    {
     "cell_type": "code",
     "collapsed": false,
     "input": [
      "print a"
     ],
     "language": "python",
     "metadata": {},
     "outputs": []
    },
    {
     "cell_type": "markdown",
     "metadata": {},
     "source": [
      "### Modules"
     ]
    },
    {
     "cell_type": "code",
     "collapsed": false,
     "input": [
      "import math\n",
      "\n",
      "x = math.cos(2 * math.pi)\n",
      "\n",
      "print(x)"
     ],
     "language": "python",
     "metadata": {},
     "outputs": []
    },
    {
     "cell_type": "markdown",
     "metadata": {},
     "source": [
      "###"
     ]
    },
    {
     "cell_type": "markdown",
     "metadata": {},
     "source": [
      "# Resources\n",
      "\n",
      "* [IPython](http://ipython.org/ipython-doc/stable/index.html)\n",
      "* [IPython notebook-based documentation](http://nbviewer.ipython.org/github/ipython/ipython/blob/master/examples/Index.ipynb) \n",
      "* [The Python Language Reference](http://docs.python.org/2/reference/index.html)\n",
      "* [The Python Standard Library](http://docs.python.org/2/library/)"
     ]
    }
   ],
   "metadata": {}
  }
 ]
}