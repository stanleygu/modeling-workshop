{
 "metadata": {
  "celltoolbar": "Slideshow",
  "signature": "sha256:18bba636fe5efda4de30c8732b4d19fcf47775b3394ddffb3a00b0dc35b2c9ba"
 },
 "nbformat": 3,
 "nbformat_minor": 0,
 "worksheets": [
  {
   "cells": [
    {
     "cell_type": "code",
     "collapsed": false,
     "input": [
      "!pip install notebooktools\n",
      "import tellurium as te\n",
      "import notebooktools.notebooktools as nb\n",
      "\n",
      "%matplotlib inline\n",
      "%config InlineBackend.figure_format='retina'"
     ],
     "language": "python",
     "metadata": {
      "slideshow": {
       "slide_type": "skip"
      }
     },
     "outputs": [
      {
       "output_type": "stream",
       "stream": "stdout",
       "text": [
        "Downloading/unpacking notebooktools\r\n"
       ]
      },
      {
       "output_type": "stream",
       "stream": "stdout",
       "text": [
        "  Downloading notebooktools-0.0.6.tar.gz\r\n"
       ]
      },
      {
       "output_type": "stream",
       "stream": "stdout",
       "text": [
        "  Running setup.py (path:/home/user/.virtualenvs/localpy/build/notebooktools/setup.py) egg_info for package notebooktools\r\n"
       ]
      },
      {
       "output_type": "stream",
       "stream": "stdout",
       "text": [
        "    \r\n"
       ]
      },
      {
       "output_type": "stream",
       "stream": "stdout",
       "text": [
        "Installing collected packages: notebooktools\r\n",
        "  Running setup.py install for notebooktools\r\n"
       ]
      },
      {
       "output_type": "stream",
       "stream": "stdout",
       "text": [
        "    \r\n"
       ]
      },
      {
       "output_type": "stream",
       "stream": "stdout",
       "text": [
        "Successfully installed notebooktools\r\n",
        "Cleaning up...\r\n"
       ]
      }
     ],
     "prompt_number": 1
    },
    {
     "cell_type": "heading",
     "level": 1,
     "metadata": {
      "slideshow": {
       "slide_type": "slide"
      }
     },
     "source": [
      "Introduction to Gene Networks"
     ]
    },
    {
     "cell_type": "heading",
     "level": 1,
     "metadata": {
      "slideshow": {
       "slide_type": "slide"
      }
     },
     "source": [
      "Biology of Gene Regulation"
     ]
    },
    {
     "cell_type": "markdown",
     "metadata": {
      "slideshow": {
       "slide_type": "skip"
      }
     },
     "source": [
      "In order to model genetic networks, we must first understand some of the biological machinery involved."
     ]
    },
    {
     "cell_type": "heading",
     "level": 1,
     "metadata": {
      "slideshow": {
       "slide_type": "subslide"
      }
     },
     "source": [
      "Operon: The Fundamental Functional Unit of Prokaryotic Genome"
     ]
    },
    {
     "cell_type": "markdown",
     "metadata": {
      "slideshow": {
       "slide_type": "fragment"
      }
     },
     "source": [
      "![Operon](http://i.imgur.com/9jp6cV8.png)"
     ]
    },
    {
     "cell_type": "markdown",
     "metadata": {
      "slideshow": {
       "slide_type": "fragment"
      }
     },
     "source": [
      "* **Promoter**: Initiates transcription"
     ]
    },
    {
     "cell_type": "markdown",
     "metadata": {
      "slideshow": {
       "slide_type": "fragment"
      }
     },
     "source": [
      "* **Operator(s)**: Areas where **transcription factors** (TF) can bind to control rate of transcription"
     ]
    },
    {
     "cell_type": "markdown",
     "metadata": {
      "slideshow": {
       "slide_type": "fragment"
      }
     },
     "source": [
      "* **Activator**: TF that increases transcription"
     ]
    },
    {
     "cell_type": "markdown",
     "metadata": {
      "slideshow": {
       "slide_type": "fragment"
      }
     },
     "source": [
      "* **Repressor**: TF that decreases transcription"
     ]
    },
    {
     "cell_type": "markdown",
     "metadata": {
      "slideshow": {
       "slide_type": "subslide"
      }
     },
     "source": [
      "# Transcription Factors\n",
      "\n",
      "May function alone or as a complex of multiple proteins."
     ]
    },
    {
     "cell_type": "markdown",
     "metadata": {
      "slideshow": {
       "slide_type": "subslide"
      }
     },
     "source": [
      "# Repression"
     ]
    },
    {
     "cell_type": "markdown",
     "metadata": {
      "slideshow": {
       "slide_type": "fragment"
      }
     },
     "source": [
      "![Downstream Obstruction](http://i.imgur.com/OcGzznP.png)"
     ]
    },
    {
     "cell_type": "markdown",
     "metadata": {
      "slideshow": {
       "slide_type": "fragment"
      }
     },
     "source": [
      "![Promoter Obstruction](http://i.imgur.com/RNZcnfW.png)"
     ]
    },
    {
     "cell_type": "markdown",
     "metadata": {
      "slideshow": {
       "slide_type": "subslide"
      }
     },
     "source": [
      "![Sequestration of an activator](http://i.imgur.com/9WHbr11.png)"
     ]
    },
    {
     "cell_type": "heading",
     "level": 1,
     "metadata": {
      "slideshow": {
       "slide_type": "subslide"
      }
     },
     "source": [
      "Activation"
     ]
    },
    {
     "cell_type": "markdown",
     "metadata": {
      "slideshow": {
       "slide_type": "fragment"
      }
     },
     "source": [
      "<h3 style=\"text-align:center;\">Activation by RNA Polymerase Recruitment</h3>\n",
      "![Activation by RNA Polymerase Recruitment](http://i.imgur.com/wqb8Gv1.png)"
     ]
    },
    {
     "cell_type": "markdown",
     "metadata": {
      "slideshow": {
       "slide_type": "fragment"
      }
     },
     "source": [
      "![Sequestration of a Repressor](http://i.imgur.com/TyZY2Eu.png)"
     ]
    },
    {
     "cell_type": "heading",
     "level": 1,
     "metadata": {
      "slideshow": {
       "slide_type": "slide"
      }
     },
     "source": [
      "Lac Operon"
     ]
    },
    {
     "cell_type": "markdown",
     "metadata": {
      "slideshow": {
       "slide_type": "fragment"
      }
     },
     "source": [
      "![Lac Operon](http://i.imgur.com/a3fQ70Q.png)"
     ]
    },
    {
     "cell_type": "markdown",
     "metadata": {
      "slideshow": {
       "slide_type": "fragment"
      }
     },
     "source": [
      "* $\\beta$-galactosidase allows *E. coli* to metabolize lactose sugar into glucose and galactose\n",
      "* Wasteful to produce $\\beta$-galactosidase if no lactose present or abundant glucose"
     ]
    },
    {
     "cell_type": "markdown",
     "metadata": {
      "slideshow": {
       "slide_type": "notes"
      }
     },
     "source": [
      "While *E. coli* usually prefer glucose as a food source, in the absence of glucose it would be beneficial to be able to metabolize lactose sugar, which can be broken down into glucose and galactose. However, it would also be wasteful for the cell to produce additional enzymes when there is no lactose or if glucose is readily available. The **lac operon** is used in regulating this process. \n",
      "\n",
      "One of the genetic products of the lac operon is $\\beta$-galactosidase, which serves to cleave lactose into glucose and galactose. In normal, high-glucose and low-lactose conditions, *lacI* repressor obstructs RNA polyermase from transcribing the genes in the lac operon. In the presence of lactose, the lactose molecules themselves can sequester *lacI* and promote transcription.\n",
      "\n",
      "There is second layer of control for the lac operon. In the absence of glucose, cyclic AMP (cAMP) levels increase. cAMP forms a complex with the catabolite activator protein (CAP). This complex binds to the promoter and stimulates the transcription."
     ]
    },
    {
     "cell_type": "markdown",
     "metadata": {
      "slideshow": {
       "slide_type": "slide"
      }
     },
     "source": [
      "# Building a Model of the Lac Operon"
     ]
    },
    {
     "cell_type": "markdown",
     "metadata": {
      "slideshow": {
       "slide_type": "fragment"
      }
     },
     "source": [
      "1. Metabolism of Lactose\n",
      "2. Regulation of $beta$-galactosidase"
     ]
    },
    {
     "cell_type": "markdown",
     "metadata": {
      "slideshow": {
       "slide_type": "subslide"
      }
     },
     "source": [
      "# Picking a Rate Law for Enzyme Kinetics\n",
      "\n",
      "* Michaelis-Menten\n",
      "\n",
      "$$E + S \\underset{k_r}{\\overset{k_f}{\\rightleftharpoons}} ES \\xrightarrow{k_{cat}} E + P $$\n",
      "\n",
      "$$v = \\frac{V_m\\:S}{K_m+S}$$\n",
      "\n",
      "* Assumes irreversible and fast equilbirium\n",
      "\n",
      "$$\\frac{k_{cat}}{k_r} \\ll 1$$\n",
      "\n"
     ]
    },
    {
     "cell_type": "markdown",
     "metadata": {
      "slideshow": {
       "slide_type": "subslide"
      }
     },
     "source": [
      "# Breakdown of Lactose by $\\beta$-gal"
     ]
    },
    {
     "cell_type": "markdown",
     "metadata": {
      "slideshow": {
       "slide_type": "fragment"
      }
     },
     "source": [
      "    lac -> glu + gal; (Vm_bGal * lac) / (km_bGal + lac)\n",
      "                      --------------------------------- Michaelis-Menten rate law"
     ]
    },
    {
     "cell_type": "code",
     "collapsed": false,
     "input": [
      "lacBreakdown = '''\n",
      "# Break down of lactose into glucose and galactose by bGal\n",
      "lac -> glu + gal; (Vm_bGal * lac) / (km_bGal + lac)\n",
      "\n",
      "# Species Initialization\n",
      "lac = 0; gal = 0;\n",
      "# Parameters\n",
      "Vm_bGal = 1; km_bGal = 1;\n",
      "\n",
      "# Injection of lactose at t=5\n",
      "at (time >5): lac = 5\n",
      "'''\n",
      "rr = te.loadAntimonyModel(lacBreakdown)\n",
      "result = rr.simulate(0, 25, 100)\n",
      "p = te.plotWithLegend(rr, result)"
     ],
     "language": "python",
     "metadata": {
      "slideshow": {
       "slide_type": "subslide"
      }
     },
     "outputs": [
      {
       "metadata": {
        "png": {
         "height": 252,
         "width": 364
        }
       },
       "output_type": "display_data",
       "png": "[encoded data removed]",
       "text": [
        "<matplotlib.figure.Figure at 0x2ecc410>"
       ]
      }
     ],
     "prompt_number": 2
    },
    {
     "cell_type": "markdown",
     "metadata": {
      "slideshow": {
       "slide_type": "subslide"
      }
     },
     "source": [
      "# Production of $\\beta$-galactosidase"
     ]
    },
    {
     "cell_type": "markdown",
     "metadata": {
      "slideshow": {
       "slide_type": "fragment"
      }
     },
     "source": [
      "$\\beta$-galactosidase production is regulated by lactose"
     ]
    },
    {
     "cell_type": "markdown",
     "metadata": {
      "slideshow": {
       "slide_type": "fragment"
      }
     },
     "source": [
      "Lactose binds to and deactivates lac repressor "
     ]
    },
    {
     "cell_type": "heading",
     "level": 1,
     "metadata": {
      "slideshow": {
       "slide_type": "subslide"
      }
     },
     "source": [
      "Hill Equation\n"
     ]
    },
    {
     "cell_type": "markdown",
     "metadata": {
      "slideshow": {
       "slide_type": "fragment"
      }
     },
     "source": [
      "**Cooperative binding**: Binding of ligand (substance that forms a complex with a biomolecule) enhanced by other ligands"
     ]
    },
    {
     "cell_type": "markdown",
     "metadata": {
      "slideshow": {
       "slide_type": "fragment"
      }
     },
     "source": [
      "Effect quantified with Hill Equation:\n",
      "    \n",
      "$$\n",
      "v = \\frac{Vm\\:S^n}{K_d + S^n}\n",
      "$$\n",
      "\n",
      "* $Vm$: Maximum rate\n",
      "* $S$: Ligand\n",
      "* $n$: Hill coefficient\n",
      "* $K_d$: Dissociation constant"
     ]
    },
    {
     "cell_type": "markdown",
     "metadata": {
      "slideshow": {
       "slide_type": "fragment"
      }
     },
     "source": [
      "    -> bGal; (basalExpression * lac^n / (kd_lac + lac^n))\n",
      "                                ------------------------- Cooperativity"
     ]
    },
    {
     "cell_type": "code",
     "collapsed": false,
     "input": [
      "bGalRegulation = '''\n",
      "-> bGal; (basalExpression * lac^n / (kd_lac + lac^n)) # Production of bGal\n",
      "bGal -> ; k_deg * bGal # Degradation of bGal\n",
      "\n",
      "# Species Initialization\n",
      "lac = 0;\n",
      "bGal = 0;\n",
      "# Parameters\n",
      "k_deg = 1;\n",
      "kd_lac = 1;\n",
      "n = 4;\n",
      "basalExpression = 1;\n",
      "\n",
      "at (time >5): lac = 5\n",
      "'''\n",
      "rr = te.loadAntimonyModel(bGalRegulation)\n",
      "result = rr.simulate(0, 25, 100)\n",
      "p = te.plotWithLegend(rr, result)"
     ],
     "language": "python",
     "metadata": {
      "slideshow": {
       "slide_type": "subslide"
      }
     },
     "outputs": [
      {
       "metadata": {
        "png": {
         "height": 252,
         "width": 373
        }
       },
       "output_type": "display_data",
       "png": "[encoded data removed]",
       "text": [
        "<matplotlib.figure.Figure at 0x2eec950>"
       ]
      }
     ],
     "prompt_number": 3
    },
    {
     "cell_type": "markdown",
     "metadata": {
      "slideshow": {
       "slide_type": "subslide"
      }
     },
     "source": [
      "# Full Model"
     ]
    },
    {
     "cell_type": "code",
     "collapsed": false,
     "input": [
      "lacOperon = '''\n",
      "# Break down of lactose into glucose and galactose\n",
      "lac -> glu + gal; (Vm_bGal * lac) / (km_bGal + lac) \n",
      "-> bGal; (basalExpression * lac^n / (kd_lac + lac^n)) # Production of bGal\n",
      "bGal -> ; k_deg * bGal                                # Degradation of bGal\n",
      "\n",
      "# Species Initialization\n",
      "lac = 0; gal = 0; bGal = 0;\n",
      "\n",
      "\n",
      "# Parameters\n",
      "Vm_bGal = 1; km_bGal = 1;\n",
      "k_deg = 1;\n",
      "kd_lac = 1;\n",
      "n = 4;\n",
      "basalExpression = 1;\n",
      "\n",
      "at (time >5): lac = 5\n",
      "'''\n",
      "rr = te.loadAntimonyModel(lacOperon)\n",
      "result = rr.simulate(0, 25, 100)\n",
      "p = te.plotWithLegend(rr, result)"
     ],
     "language": "python",
     "metadata": {
      "slideshow": {
       "slide_type": "fragment"
      }
     },
     "outputs": [
      {
       "metadata": {
        "png": {
         "height": 252,
         "width": 364
        }
       },
       "output_type": "display_data",
       "png": "[encoded data removed]",
       "text": [
        "<matplotlib.figure.Figure at 0x2ef1b10>"
       ]
      }
     ],
     "prompt_number": 4
    }
   ],
   "metadata": {}
  }
 ]
}