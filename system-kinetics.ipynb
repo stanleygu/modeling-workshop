{
 "metadata": {
  "signature": "sha256:50d2536d1f627755cbc506bf28245c3937545018fabc796438c580f9f4f7aae2"
 },
 "nbformat": 3,
 "nbformat_minor": 0,
 "worksheets": [
  {
   "cells": [
    {
     "cell_type": "markdown",
     "metadata": {},
     "source": [
      "# Outline\n",
      "\n",
      "* System Kinetics (15 minutes)\n",
      "    * First Law of thermodynamics (Energy is conserved)\n",
      "        * dU = q + w (change in energy of a system = heat transferred into it + work done on it)\n",
      "    * Enthalpy (Amount of energy in a system able to converted into heat)\n",
      "        * Standard Enthalpies\n",
      "        * Hess\u2019s Law\n",
      "    * Entropy (Measure of energy dispersal, never decreases [2nd law])\n",
      "    * Gibbs Energy (Measure of spontaneity, Function of enthalpy and entropy)\n",
      "        * Standard Gibbs Energy, can be calculated by standard Gibbs energy of formations\n",
      "        * Standard Gibbs Energy is related to Equilibrium Constant\n",
      "        * Note Gibbs energy doesn\u2019t say anything about kinetics of the reaction, how fast or slow it will go, just the net direction.\n",
      "    * When to assume equilibrium or not\n",
      "        * Ch. 10 Gene Regulation, come up with examples\n",
      "        * How to reduce number of parameters\n"
     ]
    }
   ],
   "metadata": {}
  }
 ]
}