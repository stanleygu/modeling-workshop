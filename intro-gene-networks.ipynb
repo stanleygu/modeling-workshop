{
 "metadata": {
  "signature": "sha256:c55c488adb382b497038ae4acc7cd5dea4e9fec87836c13c31d16f2b1f7b9b38"
 },
 "nbformat": 3,
 "nbformat_minor": 0,
 "worksheets": [
  {
   "cells": [
    {
     "cell_type": "markdown",
     "metadata": {},
     "source": [
      "* Introduction to Gene Networks (30 minutes)\n",
      "    * Microbial gene regulation (1-2 slides)\n",
      "        * Operon\n",
      "        * Coding region: could be multiple products\n",
      "        * 1 promoter: Where RNA Polymerase binds\n",
      "        * 0-many operators: Where transcription factors may bind\n",
      "    * TF Regulation\n",
      "        * Repression\n",
      "            * TF obstructs RNA Polymerase path\n",
      "            * TF binds to promoter prevents RNA polymerase from \n",
      "    * Activation\n",
      "        * TF is upstream of promoter and weakly attracts RNA polymerase to find\n",
      "    * Modeling Example: Lac Operon\n",
      "        * Introduce Antimony Gene notation (show repression/activation as well)\n",
      "        * Often proteins are multimers, which is most commonly modeled using the Hill Equation\n"
     ]
    },
    {
     "cell_type": "code",
     "collapsed": false,
     "input": [
      "!wget https://raw.githubusercontent.com/stanleygu/biomodels_db/master/curated/BIOMD0000000065.xml"
     ],
     "language": "python",
     "metadata": {},
     "outputs": [
      {
       "output_type": "stream",
       "stream": "stdout",
       "text": [
        "--2014-07-24 17:56:50--  https://raw.githubusercontent.com/stanleygu/biomodels_db/master/curated/BIOMD0000000065.xml\r\n",
        "Resolving raw.githubusercontent.com (raw.githubusercontent.com)... 199.27.79.133\r\n",
        "Connecting to raw.githubusercontent.com (raw.githubusercontent.com)|199.27.79.133|:443... "
       ]
      },
      {
       "output_type": "stream",
       "stream": "stdout",
       "text": [
        "connected.\r\n"
       ]
      },
      {
       "output_type": "stream",
       "stream": "stdout",
       "text": [
        "HTTP request sent, awaiting response... "
       ]
      },
      {
       "output_type": "stream",
       "stream": "stdout",
       "text": [
        "200 OK\r\n",
        "Length: 36865 (36K) [text/plain]\r\n",
        "Saving to: `BIOMD0000000065.xml'\r\n",
        "\r\n",
        "\r",
        " 0% [                                       ] 0           --.-K/s              "
       ]
      },
      {
       "output_type": "stream",
       "stream": "stdout",
       "text": [
        "\r",
        "100%[======================================>] 36,865      --.-K/s   in 0.05s   \r\n",
        "\r\n",
        "2014-07-24 17:56:50 (664 KB/s) - `BIOMD0000000065.xml' saved [36865/36865]\r\n",
        "\r\n"
       ]
      }
     ],
     "prompt_number": 1
    },
    {
     "cell_type": "code",
     "collapsed": false,
     "input": [
      "import tellurium as te"
     ],
     "language": "python",
     "metadata": {},
     "outputs": [],
     "prompt_number": 2
    },
    {
     "cell_type": "code",
     "collapsed": false,
     "input": [
      "with open ('BIOMD0000000065.xml', 'r') as f:\n",
      "    sbml = f.read()\n",
      "\n",
      "print te.sbmlToAntimony(sbml)"
     ],
     "language": "python",
     "metadata": {},
     "outputs": [
      {
       "output_type": "stream",
       "stream": "stdout",
       "text": [
        "//Created by libAntimony v2.5\n",
        "model Yildirim2003_Lac_operon()\n",
        "\n",
        "  // Compartments and Species:\n",
        "  compartment cell;\n",
        "  species M in cell, B in cell, A in cell, L in cell, P in cell, I1 in cell;\n",
        "  species I2 in cell, I3 in cell, $L_e in cell;\n",
        "\n",
        "  // Reactions:\n",
        "  r_m1:  => M; cell*gamma_0;\n",
        "  r_m2: M => ; cell*M*(gamma_M + mu);\n",
        "  r_m3_i1: I1 => M; (cell*I1)/tau_M;\n",
        "  r_i1:  => I1; cell*alpha_M*((K_1*exp(mu*tau_M*-2)*A^2 + 1)/(K + K_1*exp(-2*mu*tau_M)*A^2));\n",
        "  r_b1: B => ; cell*B*(gamma_B + mu);\n",
        "  r_b2_i2: I2 => B; (cell*I2)/tau_B;\n",
        "  r_i2:  => I2; cell*alpha_B*M*exp(-(mu*tau_B));\n",
        "  r_a1: A => ; cell*A*(gamma_A + mu);\n",
        "  r_a2: A => ; cell*beta_A*B*(A/(K_A + A));\n",
        "  r_a3_l1: L => A; cell*alpha_A*B*(L/(K_L + L));\n",
        "  r_l2: L => ; cell*L*(gamma_L + mu);\n",
        "  r_l3: L => ; cell*beta_L1*P*(L/(K_L1 + L));\n",
        "  r_l4:  => L; cell*alpha_L*P*(L_e/(K_Le + L_e));\n",
        "  r_p1: P => ; cell*P*(gamma_P + mu);\n",
        "  r_p2_i3: I3 => P; (cell*I3)/(tau_B + tau_P);\n",
        "  r_i3:  => I3; cell*alpha_P*M*exp(-1*mu*(tau_B + tau_P));\n",
        "\n",
        "  // Species initializations:\n",
        "  M = 0.000626;\n",
        "  B = 0;\n",
        "  A = 0.038;\n",
        "  L = 0.372;\n",
        "  P = 0.0149;\n",
        "  I1 = 0;\n",
        "  I2 = 0;\n",
        "  I3 = 0;\n",
        "  L_e = 0.08;\n",
        "\n",
        "  // Compartment initializations:\n",
        "  cell = 1;\n",
        "\n",
        "  // Variable initializations:\n",
        "  mu = 0.0226;\n",
        "  gamma_M = 0.411;\n",
        "  gamma_B = 0.000833;\n",
        "  gamma_A = 0.52;\n",
        "  gamma_0 = 7.25e-07;\n",
        "  K = 7200;\n",
        "  alpha_M = 0.000997;\n",
        "  tau_B = 2;\n",
        "  alpha_A = 17600;\n",
        "  K_L1 = 1.81;\n",
        "  alpha_B = 0.0166;\n",
        "  K_A = 1.95;\n",
        "  beta_A = 21500;\n",
        "  tau_M = 0.1;\n",
        "  K_L = 0.97;\n",
        "  gamma_L = 0;\n",
        "  gamma_P = 0.65;\n",
        "  alpha_L = 2880;\n",
        "  alpha_P = 10;\n",
        "  tau_P = 0.83;\n",
        "  beta_L1 = 2650;\n",
        "  K_Le = 0.26;\n",
        "  K_1 = 25200;\n",
        "\n",
        "  //Other declarations:\n",
        "  const cell, mu, gamma_M, gamma_B, gamma_A, gamma_0, K, alpha_M, tau_B, alpha_A;\n",
        "  const K_L1, alpha_B, K_A, beta_A, tau_M, K_L, gamma_L, gamma_P, alpha_L;\n",
        "  const alpha_P, tau_P, beta_L1, K_Le, K_1;\n",
        "\n",
        "  // Unit definitions:\n",
        "  unit time_unit = 60 second;\n",
        "  unit substance = 1e-3 mole;\n",
        "\n",
        "  //Display Names:\n",
        "  time_unit is \"minute\";\n",
        "  substance is \"millimoles\";\n",
        "  M is \"mRNA\";\n",
        "  B is \"Betagalactosidase\";\n",
        "  A is \"allolactose\";\n",
        "  L is \"lactose_internal\";\n",
        "  P is \"permease\";\n",
        "  I1 is \"PartialmRNA\";\n",
        "  I2 is \"PartialBetagalactosidase\";\n",
        "  I3 is \"PartialPermease\";\n",
        "  L_e is \"External_Lactose\";\n",
        "  r_m1 is \"Basal_mRNA_Synthesis\";\n",
        "  r_m2 is \"mRNA_Degradation\";\n",
        "  r_m3_i1 is \"allolactose_controlled_mRNA_synthesis\";\n",
        "  r_i1 is \"allolactose_controlled_partial_mRNA_synthesis\";\n",
        "  r_b1 is \"Beta_galactosidase_Degradation\";\n",
        "  r_b2_i2 is \"Beta_galactosidase_synthesis\";\n",
        "  r_i2 is \"Partial_Beta_galactosidase_synthesis\";\n",
        "  r_a1 is \"Basal_Allolactose_Degradation\";\n",
        "  r_a2 is \"Betagalactosidase_mediated_Allolactose_Degradation\";\n",
        "  r_a3_l1 is \"Beta_galactosidase_reaction\";\n",
        "  r_l2 is \"lactose_degradation\";\n",
        "  r_l3 is \"Lactose_transport_out\";\n",
        "  r_l4 is \"Lactose_transport_in\";\n",
        "  r_p1 is \"permease_degradation\";\n",
        "  r_p2_i3 is \"permease_synthesis\";\n",
        "  r_i3 is \"partial_permease_synthesis\";\n",
        "end\n",
        "\n"
       ]
      }
     ],
     "prompt_number": 5
    }
   ],
   "metadata": {}
  }
 ]
}