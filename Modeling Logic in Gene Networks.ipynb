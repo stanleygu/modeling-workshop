{
 "metadata": {
  "name": "",
  "signature": "sha256:5e5f87dc91564fcfa5c5d73d31b514644545ffadd3f077ac95e63e851de61a85"
 },
 "nbformat": 3,
 "nbformat_minor": 0,
 "worksheets": [
  {
   "cells": [
    {
     "cell_type": "heading",
     "level": 1,
     "metadata": {},
     "source": [
      "Modeling Gene Logic Networks"
     ]
    },
    {
     "cell_type": "code",
     "collapsed": false,
     "input": [
      "%%html\n",
      "<style>\n",
      "div.cell{\n",
      "         box-orient:horizontal;\n",
      "         flex-direction:row;\n",
      "}\n",
      "\n",
      "div.cell *{\n",
      "         width:100%;\n",
      "}\n",
      "\n",
      "div.prompt{\n",
      "          width:80px;\n",
      "\n",
      "}\n",
      "</style>\n"
     ],
     "language": "python",
     "metadata": {},
     "outputs": [
      {
       "html": [
        "<style>\n",
        "div.cell{\n",
        "         box-orient:horizontal;\n",
        "         flex-direction:row;\n",
        "}\n",
        "\n",
        "div.cell *{\n",
        "         width:100%;\n",
        "}\n",
        "\n",
        "div.prompt{\n",
        "          width:80px;\n",
        "\n",
        "}\n",
        "</style>"
       ],
       "metadata": {},
       "output_type": "display_data",
       "text": [
        "<IPython.core.display.HTML at 0x7f35cdc47810>"
       ]
      }
     ],
     "prompt_number": 1
    },
    {
     "cell_type": "code",
     "collapsed": false,
     "input": [
      "%matplotlib inline\n"
     ],
     "language": "python",
     "metadata": {},
     "outputs": [],
     "prompt_number": 2
    },
    {
     "cell_type": "heading",
     "level": 2,
     "metadata": {},
     "source": [
      "From Truth Tables to Kinetics"
     ]
    },
    {
     "cell_type": "markdown",
     "metadata": {},
     "source": [
      "Let's start with $X_1$ AND $X_2$.\n",
      "\n",
      "| $X_2$ | $X_1$  | $Y$   |\n",
      "| -----:|:------:| -----:|\n",
      "| 0     |   0    | 0  |\n",
      "| 0     |   1    | 0  |\n",
      "| 1     |   0    | 0  |\n",
      "| 1     |   1    | 1  |"
     ]
    },
    {
     "cell_type": "markdown",
     "metadata": {},
     "source": [
      "We need to implement this table using gene expression. That is,\n",
      "\n",
      "1. $X_1, X_2$ are transcription factors (TFs) that interact with operators and/or the promoter in an operon.\n",
      "2. $Y$ is a protein that is expressed by the coding region of the operon.\n",
      "3. A TF/protein has the value of 0 if it has very low concentration; it has the value 1 if it has high concentration."
     ]
    },
    {
     "cell_type": "markdown",
     "metadata": {},
     "source": [
      "Moving from truth tables to gene expression means that we want reactions with certain kinetics. We can model these kinetics in antimony and evaluate if we obtain the desired truth tables.\n",
      "\n",
      "Suppose that we want to implement the above truth table. The model does not explicitly include the operators. Instead, their role is modelled indirectly by the kinetics of the promoter."
     ]
    },
    {
     "cell_type": "markdown",
     "metadata": {},
     "source": [
      "    dna1: --P--G--\n",
      "\n",
      "    P = ???;\n",
      "    G: -> Y;\n",
      "    Y -> ; gamma*Y  // Y degrades\n",
      "\n",
      "    gamma = 0.1;\n",
      "    Vmax0 = 5;\n",
      "    X1 = 0; Y = 0; X2 = 0;\n"
     ]
    },
    {
     "cell_type": "markdown",
     "metadata": {},
     "source": [
      "| $X_2$ | $X_1$  | $Y$   |\n",
      "| -----:|:------:| -----:|\n",
      "| 0     |   0    | 0  |\n",
      "| 0     |   1    | 0  |\n",
      "| 1     |   0    | 0  |\n",
      "| 1     |   1    | 1  |\n",
      "\n",
      "$Y$ will be 0 if P is small. So, we want to specify kinetics for P that are small when at least one of $X_1, X_2$ are small?\n",
      "1. $X_2$\n",
      "2. $X_1 + X_2$\n",
      "3. $X_1 X_2$"
     ]
    },
    {
     "cell_type": "code",
     "collapsed": false,
     "input": [
      "import numpy\n",
      "import tellurium as te\n",
      "\n",
      "antStr = '''\n",
      "// X1 AND X2\n",
      "dna1: --P--G--\n",
      "\n",
      "P = X1*X2;  // X1 AND X2\n",
      "G: -> Y;\n",
      "Y -> ; gamma*Y  // Y degrades\n",
      "\n",
      "gamma = 0.1;\n",
      "Y = 0; X1=0; X2=0\n",
      "\n",
      "at  (time < 100):              X1 = 0, X2 = 0 // Y=0\n",
      "at (time > 100 && time < 201): X1 = 0, X2 = 1 // Y=0\n",
      "at (time > 200 && time < 301): X1 = 1, X2 = 0 // Y=0\n",
      "at (time > 300 && time < 401): X1 = 1, X2 = 1 // Y=1\n",
      "'''\n",
      "\n",
      "r = te.loadAntimonyModel(antStr)\n",
      "model = r.simulate(0, 400, 1000)\n",
      "te.plotWithLegend(r, numpy.vstack ((model)))"
     ],
     "language": "python",
     "metadata": {},
     "outputs": [
      {
       "metadata": {},
       "output_type": "display_data",
       "png": "[encoded data removed]",
       "text": [
        "<matplotlib.figure.Figure at 0x7f35b42af5d0>"
       ]
      },
      {
       "metadata": {},
       "output_type": "pyout",
       "prompt_number": 10,
       "text": [
        "<module 'matplotlib.pyplot' from '/usr/lib/pymodules/python2.7/matplotlib/pyplot.pyc'>"
       ]
      }
     ],
     "prompt_number": 10
    },
    {
     "cell_type": "markdown",
     "metadata": {},
     "source": [
      "But wait. Y = 10, not 1!\n",
      "\n",
      "We need to scale the kinetics by\n",
      "    Vmax."
     ]
    },
    {
     "cell_type": "heading",
     "level": 1,
     "metadata": {},
     "source": [
      "Scaling"
     ]
    },
    {
     "cell_type": "code",
     "collapsed": false,
     "input": [
      "import numpy\n",
      "import tellurium as te\n",
      "\n",
      "antStr = '''\n",
      "// X1 AND X2\n",
      "dna1: --P--G--\n",
      "\n",
      "P = Vmax*X1*X2;  // X1 AND X2\n",
      "G: -> Y;\n",
      "Y -> ; gamma_0*Y  // Y degrades\n",
      "\n",
      "gamma_0 = 0.1;\n",
      "Vmax = 0.1;\n",
      "Y = 0; X1=0; X2=0\n",
      "\n",
      "at  (time < 100):              X1 = 0, X2 = 0 // Y=0\n",
      "at (time > 100 && time < 201): X1 = 0, X2 = 1 // Y=0\n",
      "at (time > 200 && time < 301): X1 = 1, X2 = 0 // Y=0\n",
      "at (time > 300 && time < 401): X1 = 1, X2 = 1 // Y=1\n",
      "'''\n",
      "\n",
      "r = te.loadAntimonyModel(antStr)\n",
      "model = r.simulate(0, 400, 1000)\n",
      "te.plotWithLegend(r, numpy.vstack ((model)))"
     ],
     "language": "python",
     "metadata": {},
     "outputs": [
      {
       "metadata": {},
       "output_type": "display_data",
       "png": "[encoded data removed]",
       "text": [
        "<matplotlib.figure.Figure at 0x7f35b42aae10>"
       ]
      },
      {
       "metadata": {},
       "output_type": "pyout",
       "prompt_number": 4,
       "text": [
        "<module 'matplotlib.pyplot' from '/usr/lib/pymodules/python2.7/matplotlib/pyplot.pyc'>"
       ]
      }
     ],
     "prompt_number": 4
    },
    {
     "cell_type": "markdown",
     "metadata": {},
     "source": [
      "How do we do $X_1$ OR $X_2$?\n",
      "\n",
      "| $X_2$ | $X_1$  | $Y$   |\n",
      "| ----- |:------:| -----:|\n",
      "| 0     |   0    | 0  |\n",
      "| 0     |   1    | 1  |\n",
      "| 1     |   0    | 1  |\n",
      "| 1     |   1    | 1  |\n",
      "\n",
      "\n",
      "$Y$ is large when either $X_1$ or $X_2$ is large."
     ]
    },
    {
     "cell_type": "code",
     "collapsed": false,
     "input": [
      "import numpy\n",
      "import tellurium as te\n",
      "\n",
      "antStr = '''\n",
      "// X1 OR X2\n",
      "dna1: --P--G--\n",
      "\n",
      "P = Vmax*(X1 + X2); // X1 OR X2\n",
      "G: -> Y;\n",
      "Y -> ; gamma_0*Y  // Y degrades\n",
      "\n",
      "gamma_0 = 0.1;\n",
      "Vmax = 0.1;\n",
      "Y = 0; X1=0; X2=0\n",
      "\n",
      "at  (time < 100):              X1 = 0, X2 = 0 // Y=0\n",
      "at (time > 100 && time < 201): X1 = 0, X2 = 1 // Y=1\n",
      "at (time > 200 && time < 301): X1 = 1, X2 = 0 // Y=1\n",
      "at (time > 300 && time < 401): X1 = 1, X2 = 1 // Y=1\n",
      "'''\n",
      "\n",
      "r = te.loadAntimonyModel(antStr)\n",
      "model = r.simulate(0, 400, 1000)\n",
      "te.plotWithLegend(r, numpy.vstack ((model)))"
     ],
     "language": "python",
     "metadata": {},
     "outputs": [
      {
       "metadata": {},
       "output_type": "display_data",
       "png": "[encoded data removed]",
       "text": [
        "<matplotlib.figure.Figure at 0x7f35b425d750>"
       ]
      },
      {
       "metadata": {},
       "output_type": "pyout",
       "prompt_number": 5,
       "text": [
        "<module 'matplotlib.pyplot' from '/usr/lib/pymodules/python2.7/matplotlib/pyplot.pyc'>"
       ]
      }
     ],
     "prompt_number": 5
    },
    {
     "cell_type": "markdown",
     "metadata": {},
     "source": [
      "Issue - Different values for $Y$: 10 vs. 20.\n",
      "We want $Y$ to be the same whenever the truth table contains a 1.\n",
      "\n",
      "Need another kind of scaling.\n",
      "Divide by $a + X_1 + X_2$, where $a$ is very small.\n",
      "\n",
      "Why did we include $a$?\n"
     ]
    },
    {
     "cell_type": "code",
     "collapsed": false,
     "input": [
      "import numpy\n",
      "import tellurium as te\n",
      "\n",
      "antStr = '''\n",
      "// X1 OR X2\n",
      "dna1: --P--G--\n",
      "\n",
      "P = Vmax*(X1 + X2)/(a + X1 + X2); // X1 OR X2\n",
      "G: -> Y;\n",
      "Y -> ; gamma_0*Y  // Y degrades\n",
      "\n",
      "gamma_0 = 0.1;\n",
      "Vmax = 0.1;\n",
      "Y = 0; X1=0; X2=0\n",
      "a = 0.0001\n",
      "\n",
      "at  (time < 100):              X1 = 0, X2 = 0 // Y=0\n",
      "at (time > 100 && time < 201): X1 = 0, X2 = 1 // Y=1\n",
      "at (time > 200 && time < 301): X1 = 1, X2 = 0 // Y=1\n",
      "at (time > 300 && time < 401): X1 = 1, X2 = 1 // Y=1\n",
      "'''\n",
      "\n",
      "r = te.loadAntimonyModel(antStr)\n",
      "model = r.simulate(0, 400, 1000)\n",
      "te.plotWithLegend(r, numpy.vstack ((model)))"
     ],
     "language": "python",
     "metadata": {},
     "outputs": [
      {
       "metadata": {},
       "output_type": "display_data",
       "png": "[encoded data removed]",
       "text": [
        "<matplotlib.figure.Figure at 0x7f35b4207f50>"
       ]
      },
      {
       "metadata": {},
       "output_type": "pyout",
       "prompt_number": 6,
       "text": [
        "<module 'matplotlib.pyplot' from '/usr/lib/pymodules/python2.7/matplotlib/pyplot.pyc'>"
       ]
      }
     ],
     "prompt_number": 6
    },
    {
     "cell_type": "markdown",
     "metadata": {},
     "source": [
      "How about $X_1$ EQU $X_2$?\n",
      "\n",
      "| $X_2$ | $X_1$  | $Y$   |\n",
      "| -----: |:------:| -----:|\n",
      "| 0     |   0    | 1  |\n",
      "| 0     |   1    | 0  |\n",
      "| 1     |   0    | 0  |\n",
      "| 1     |   1    | 1  |\n",
      "\n",
      "What are the kinetics for P?\n",
      "1. $X_2 X_1/(0.0001 + X_1 + X_2)$\n",
      "2. $(a + X_2 X_1)/(a + X_1 X_2)$\n",
      "3. $(a + bX_2 X_1)/(a + X_1 + X_2 + bX_1 X_2)$\n"
     ]
    },
    {
     "cell_type": "code",
     "collapsed": false,
     "input": [
      "import numpy\n",
      "import tellurium as te\n",
      "\n",
      "antStr = '''\n",
      "// X1 EQU X2\n",
      "dna1: --P--G--\n",
      "\n",
      "P = Vmax*(a+b*X1*X2)/(a+X1+X2+b*X1*X2); // X1 EQU X2\n",
      "G: -> Y;\n",
      "Y -> ; gamma_0*Y  // Y degrades\n",
      "\n",
      "gamma_0 = 0.1;\n",
      "Vmax = 0.1;\n",
      "Y = 0; X1=0; X2=0\n",
      "a= 0.0001; b=1000;\n",
      "\n",
      "at  (time < 100):              X1 = 0, X2 = 0 // Y=1\n",
      "at (time > 100 && time < 201): X1 = 0, X2 = 1 // Y=0\n",
      "at (time > 200 && time < 301): X1 = 1, X2 = 0 // Y=0\n",
      "at (time > 300 && time < 401): X1 = 1, X2 = 1 // Y=1\n",
      "'''\n",
      "\n",
      "r = te.loadAntimonyModel(antStr)\n",
      "model = r.simulate(0, 400, 1000)\n",
      "te.plotWithLegend(r, numpy.vstack ((model)))"
     ],
     "language": "python",
     "metadata": {},
     "outputs": [
      {
       "metadata": {},
       "output_type": "display_data",
       "png": "[encoded data removed]",
       "text": [
        "<matplotlib.figure.Figure at 0x7f35b432ccd0>"
       ]
      },
      {
       "metadata": {},
       "output_type": "pyout",
       "prompt_number": 7,
       "text": [
        "<module 'matplotlib.pyplot' from '/usr/lib/pymodules/python2.7/matplotlib/pyplot.pyc'>"
       ]
      }
     ],
     "prompt_number": 7
    },
    {
     "cell_type": "markdown",
     "metadata": {},
     "source": [
      "Sometimes, the signal is further shaped by exponentiation, like\n",
      "$X_1^6$."
     ]
    },
    {
     "cell_type": "heading",
     "level": 2,
     "metadata": {},
     "source": [
      "Final Example"
     ]
    },
    {
     "cell_type": "markdown",
     "metadata": {},
     "source": [
      "What are the kinetics for $X_1$ NAND $X_2$?\n",
      "\n",
      "| $X_2$ | $X_1$  | $Y$   |\n",
      "| -----: |:------:| -----:|\n",
      "| 0     |   0    | 1  |\n",
      "| 0     |   1    | 0  |\n",
      "| 1     |   0    | 0  |\n",
      "| 1     |   1    | 0  |\n",
      "\n"
     ]
    },
    {
     "cell_type": "markdown",
     "metadata": {},
     "source": [
      "What is the denominator for the kinetics of P?\n",
      "1. $a$\n",
      "2. $a + X_1 + b X_2$\n",
      "3. $a + X_1 + X_2 + b X_1 X_2$\n",
      "4. $a + b X_1 X_2$"
     ]
    },
    {
     "cell_type": "markdown",
     "metadata": {},
     "source": [
      "*For kinetics modeling, start with the denominator is $a + X_1 + X_2 + bX_1 X_2$.\n",
      "This expresses the four combinations of $X_1, X_2$.*"
     ]
    },
    {
     "cell_type": "markdown",
     "metadata": {},
     "source": [
      "What is the numerator for the kinetics of P for $X_1$ NAND $X_2$?\n",
      "\n",
      "Hint: The $X_j$ terms in the numerator correspond to the terms in the truth table where $Y=1$.\n",
      "\n",
      "1. $a$\n",
      "2. $a + X_1 + b X_2$\n",
      "3. $a + X_1 + X_2 + b X_1 X_2$\n",
      "4. $a + b X_1 X_2$"
     ]
    },
    {
     "cell_type": "code",
     "collapsed": false,
     "input": [
      "import numpy\n",
      "import tellurium as te\n",
      "\n",
      "antStr = '''\n",
      "// X1 NAND X2\n",
      "dna1: --P--G--\n",
      "\n",
      "P = Vmax*(a)/(a+X1+X2+b*X1*X2); // X1 EQU X2\n",
      "G: -> Y;\n",
      "Y -> ; gamma_0*Y  // Y degrades\n",
      "\n",
      "gamma_0 = 0.1;\n",
      "Vmax = 0.1;\n",
      "Y = 0; X1=0; X2=0\n",
      "a= 0.0001; b=1000;\n",
      "\n",
      "at  (time < 100):              X1 = 0, X2 = 0 // Y=1\n",
      "at (time > 100 && time < 201): X1 = 0, X2 = 1 // Y=0\n",
      "at (time > 200 && time < 301): X1 = 1, X2 = 0 // Y=0\n",
      "at (time > 300 && time < 401): X1 = 1, X2 = 1 // Y=1\n",
      "'''\n",
      "\n",
      "r = te.loadAntimonyModel(antStr)\n",
      "model = r.simulate(0, 400, 1000)\n",
      "te.plotWithLegend(r, numpy.vstack ((model)))"
     ],
     "language": "python",
     "metadata": {},
     "outputs": [
      {
       "metadata": {},
       "output_type": "display_data",
       "png": "[encoded data removed]",
       "text": [
        "<matplotlib.figure.Figure at 0x7f35b425d090>"
       ]
      },
      {
       "metadata": {},
       "output_type": "pyout",
       "prompt_number": 8,
       "text": [
        "<module 'matplotlib.pyplot' from '/usr/lib/pymodules/python2.7/matplotlib/pyplot.pyc'>"
       ]
      }
     ],
     "prompt_number": 8
    },
    {
     "cell_type": "heading",
     "level": 1,
     "metadata": {},
     "source": [
      "Summary"
     ]
    },
    {
     "cell_type": "markdown",
     "metadata": {},
     "source": [
      "1. Transcription factors (TFs) and proteins are boolean variables where a high concentration is 1 and a low concentration is 0.\n",
      "2. Prefer modeling genes that have a signal binary output (protein).\n",
      "3. The operator logic is modelled in the kinetics of the promoter.\n",
      "4. The kinetics equation for the promoter is a rational polynomial. \n",
      "  1. Typically, the denominator is $a + X_1 + X_2 + b*X_1X_2$, where $a$ is very small and $b$ is very large.\n",
      "  2. The numerator has the terms\n",
      "    1. $a$: if $Y=1$ when $X_1=0,X_2=0$\n",
      "    2. $X_1$: if $Y=1$ when $X_1=1,X_2=0$\n",
      "    3. $X_2$: if $Y=1$ when $X_1=0,X_2=1$\n",
      "    4. $bX_1X_2$: if $Y=1$ when $X_1=1,X_2=1$\n",
      "\n"
     ]
    }
   ],
   "metadata": {}
  }
 ]
}